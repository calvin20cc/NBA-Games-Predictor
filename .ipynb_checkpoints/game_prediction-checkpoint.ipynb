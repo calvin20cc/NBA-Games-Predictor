{
 "cells": [
  {
   "cell_type": "code",
   "execution_count": 1,
   "metadata": {},
   "outputs": [],
   "source": [
    "# data analysis and wrangling\n",
    "import pandas as pd\n",
    "import numpy as np\n",
    "\n",
    "# visualization\n",
    "import seaborn as sns\n",
    "import matplotlib.pyplot as plt\n",
    "%matplotlib inline\n",
    "\n",
    "# machine learning\n",
    "from sklearn import datasets, linear_model\n",
    "from sklearn.model_selection import train_test_split\n",
    "\n",
    "import warnings\n",
    "warnings.filterwarnings('ignore')\n",
    "\n",
    "df = pd.read_csv(\"/home/calvin/Desktop/NBA-Games-Predictor/game_stats.csv\")"
   ]
  },
  {
   "cell_type": "markdown",
   "metadata": {},
   "source": [
    "**Problem**\n",
    "\n",
    "The objective is to analyze a NBA Game Boxscore dataset and predict the win/loss outcome of games."
   ]
  },
  {
   "cell_type": "markdown",
   "metadata": {},
   "source": [
    "**Data Wrangling**\n",
    "\n",
    "Each game is assigned a unique integer id."
   ]
  },
  {
   "cell_type": "code",
   "execution_count": 2,
   "metadata": {},
   "outputs": [],
   "source": [
    "rows = df.shape[0]\n",
    "df['GAMEID'] = np.arange(0, rows, 1)"
   ]
  },
  {
   "cell_type": "markdown",
   "metadata": {},
   "source": [
    "Since the Matchup column is in an unpleasant format, we will reformat it by creating a new column called Home/Away. \"H\" denotes home court advantage and \"A\" denotes away court."
   ]
  },
  {
   "cell_type": "code",
   "execution_count": 3,
   "metadata": {},
   "outputs": [],
   "source": [
    "s = df['MATCHUP'].str.contains('@', regex=False)\n",
    "df['HOME/AWAY'] = s\n",
    "df['HOME/AWAY'] = np.where(df['HOME/AWAY'] == True, \"A\", \"H\")"
   ]
  },
  {
   "cell_type": "markdown",
   "metadata": {},
   "source": [
    "Win/Loss values are given in strings, so we will convert the values. \"1\" denotes a win and \"0\" denotes a loss."
   ]
  },
  {
   "cell_type": "code",
   "execution_count": 4,
   "metadata": {},
   "outputs": [],
   "source": [
    "df['W/L'] = np.where(df['W/L'] == 'W', 1, 0)"
   ]
  },
  {
   "cell_type": "code",
   "execution_count": 5,
   "metadata": {},
   "outputs": [
    {
     "data": {
      "text/html": [
       "<div>\n",
       "<style scoped>\n",
       "    .dataframe tbody tr th:only-of-type {\n",
       "        vertical-align: middle;\n",
       "    }\n",
       "\n",
       "    .dataframe tbody tr th {\n",
       "        vertical-align: top;\n",
       "    }\n",
       "\n",
       "    .dataframe thead th {\n",
       "        text-align: right;\n",
       "    }\n",
       "</style>\n",
       "<table border=\"1\" class=\"dataframe\">\n",
       "  <thead>\n",
       "    <tr style=\"text-align: right;\">\n",
       "      <th></th>\n",
       "      <th>TEAM</th>\n",
       "      <th>DATE</th>\n",
       "      <th>MATCHUP</th>\n",
       "      <th>W/L</th>\n",
       "      <th>MIN</th>\n",
       "      <th>PTS</th>\n",
       "      <th>FGM</th>\n",
       "      <th>FGA</th>\n",
       "      <th>FG%</th>\n",
       "      <th>3PM</th>\n",
       "      <th>...</th>\n",
       "      <th>DREB</th>\n",
       "      <th>REB</th>\n",
       "      <th>AST</th>\n",
       "      <th>STL</th>\n",
       "      <th>BLK</th>\n",
       "      <th>TOV</th>\n",
       "      <th>PF</th>\n",
       "      <th>+/-</th>\n",
       "      <th>GAMEID</th>\n",
       "      <th>HOME/AWAY</th>\n",
       "    </tr>\n",
       "  </thead>\n",
       "  <tbody>\n",
       "    <tr>\n",
       "      <th>0</th>\n",
       "      <td>ATL</td>\n",
       "      <td>01/10/2018</td>\n",
       "      <td>ATL @ DEN</td>\n",
       "      <td>1</td>\n",
       "      <td>239</td>\n",
       "      <td>110</td>\n",
       "      <td>40</td>\n",
       "      <td>80</td>\n",
       "      <td>50.0</td>\n",
       "      <td>12</td>\n",
       "      <td>...</td>\n",
       "      <td>38</td>\n",
       "      <td>44</td>\n",
       "      <td>25</td>\n",
       "      <td>6</td>\n",
       "      <td>4</td>\n",
       "      <td>16</td>\n",
       "      <td>23</td>\n",
       "      <td>13.0</td>\n",
       "      <td>0</td>\n",
       "      <td>A</td>\n",
       "    </tr>\n",
       "    <tr>\n",
       "      <th>1</th>\n",
       "      <td>ATL</td>\n",
       "      <td>04/10/2018</td>\n",
       "      <td>ATL vs. PHI</td>\n",
       "      <td>0</td>\n",
       "      <td>240</td>\n",
       "      <td>113</td>\n",
       "      <td>41</td>\n",
       "      <td>98</td>\n",
       "      <td>41.8</td>\n",
       "      <td>13</td>\n",
       "      <td>...</td>\n",
       "      <td>31</td>\n",
       "      <td>39</td>\n",
       "      <td>27</td>\n",
       "      <td>10</td>\n",
       "      <td>3</td>\n",
       "      <td>10</td>\n",
       "      <td>24</td>\n",
       "      <td>-8.0</td>\n",
       "      <td>1</td>\n",
       "      <td>H</td>\n",
       "    </tr>\n",
       "    <tr>\n",
       "      <th>2</th>\n",
       "      <td>ATL</td>\n",
       "      <td>04/06/2018</td>\n",
       "      <td>ATL @ WAS</td>\n",
       "      <td>1</td>\n",
       "      <td>239</td>\n",
       "      <td>103</td>\n",
       "      <td>38</td>\n",
       "      <td>79</td>\n",
       "      <td>48.1</td>\n",
       "      <td>11</td>\n",
       "      <td>...</td>\n",
       "      <td>43</td>\n",
       "      <td>50</td>\n",
       "      <td>24</td>\n",
       "      <td>5</td>\n",
       "      <td>5</td>\n",
       "      <td>18</td>\n",
       "      <td>22</td>\n",
       "      <td>6.0</td>\n",
       "      <td>2</td>\n",
       "      <td>A</td>\n",
       "    </tr>\n",
       "    <tr>\n",
       "      <th>3</th>\n",
       "      <td>ATL</td>\n",
       "      <td>04/04/2018</td>\n",
       "      <td>ATL vs. MIA</td>\n",
       "      <td>0</td>\n",
       "      <td>239</td>\n",
       "      <td>86</td>\n",
       "      <td>33</td>\n",
       "      <td>90</td>\n",
       "      <td>36.7</td>\n",
       "      <td>9</td>\n",
       "      <td>...</td>\n",
       "      <td>38</td>\n",
       "      <td>48</td>\n",
       "      <td>20</td>\n",
       "      <td>5</td>\n",
       "      <td>6</td>\n",
       "      <td>15</td>\n",
       "      <td>16</td>\n",
       "      <td>-29.0</td>\n",
       "      <td>3</td>\n",
       "      <td>H</td>\n",
       "    </tr>\n",
       "    <tr>\n",
       "      <th>4</th>\n",
       "      <td>ATL</td>\n",
       "      <td>04/03/2018</td>\n",
       "      <td>ATL @ MIA</td>\n",
       "      <td>0</td>\n",
       "      <td>240</td>\n",
       "      <td>98</td>\n",
       "      <td>37</td>\n",
       "      <td>88</td>\n",
       "      <td>42.0</td>\n",
       "      <td>13</td>\n",
       "      <td>...</td>\n",
       "      <td>37</td>\n",
       "      <td>49</td>\n",
       "      <td>24</td>\n",
       "      <td>10</td>\n",
       "      <td>1</td>\n",
       "      <td>15</td>\n",
       "      <td>15</td>\n",
       "      <td>-3.0</td>\n",
       "      <td>4</td>\n",
       "      <td>A</td>\n",
       "    </tr>\n",
       "  </tbody>\n",
       "</table>\n",
       "<p>5 rows × 26 columns</p>\n",
       "</div>"
      ],
      "text/plain": [
       "  TEAM        DATE      MATCHUP  W/L  MIN  PTS  FGM  FGA   FG%  3PM  \\\n",
       "0  ATL  01/10/2018    ATL @ DEN    1  239  110   40   80  50.0   12   \n",
       "1  ATL  04/10/2018  ATL vs. PHI    0  240  113   41   98  41.8   13   \n",
       "2  ATL  04/06/2018    ATL @ WAS    1  239  103   38   79  48.1   11   \n",
       "3  ATL  04/04/2018  ATL vs. MIA    0  239   86   33   90  36.7    9   \n",
       "4  ATL  04/03/2018    ATL @ MIA    0  240   98   37   88  42.0   13   \n",
       "\n",
       "     ...      DREB  REB  AST  STL  BLK  TOV  PF   +/-  GAMEID  HOME/AWAY  \n",
       "0    ...        38   44   25    6    4   16  23  13.0       0          A  \n",
       "1    ...        31   39   27   10    3   10  24  -8.0       1          H  \n",
       "2    ...        43   50   24    5    5   18  22   6.0       2          A  \n",
       "3    ...        38   48   20    5    6   15  16 -29.0       3          H  \n",
       "4    ...        37   49   24   10    1   15  15  -3.0       4          A  \n",
       "\n",
       "[5 rows x 26 columns]"
      ]
     },
     "execution_count": 5,
     "metadata": {},
     "output_type": "execute_result"
    }
   ],
   "source": [
    "df.head()"
   ]
  },
  {
   "cell_type": "markdown",
   "metadata": {},
   "source": [
    "**Partitioning the Data Set**"
   ]
  },
  {
   "cell_type": "markdown",
   "metadata": {},
   "source": [
    "We will split the dataset into a traning set and a test set. Creation of the model will be done on the training set, then tested using the test set. We will use a 80/20 split."
   ]
  },
  {
   "cell_type": "code",
   "execution_count": 6,
   "metadata": {},
   "outputs": [
    {
     "name": "stdout",
     "output_type": "stream",
     "text": [
      "(1968, 26)\n",
      "(492, 26)\n"
     ]
    }
   ],
   "source": [
    "# create training and testing vars\n",
    "train_df, test_df = train_test_split(df, test_size=0.2)\n",
    "print (train_df.shape)\n",
    "print (test_df.shape)"
   ]
  },
  {
   "cell_type": "markdown",
   "metadata": {},
   "source": [
    "**Data Exploration**"
   ]
  },
  {
   "cell_type": "markdown",
   "metadata": {},
   "source": [
    "We can see some of the basic statictics of the dataset with the describe function such as the mean, min, and max. It gives us a brief overview of what the dataset looks like.\n"
   ]
  },
  {
   "cell_type": "code",
   "execution_count": 7,
   "metadata": {},
   "outputs": [
    {
     "data": {
      "text/html": [
       "<div>\n",
       "<style scoped>\n",
       "    .dataframe tbody tr th:only-of-type {\n",
       "        vertical-align: middle;\n",
       "    }\n",
       "\n",
       "    .dataframe tbody tr th {\n",
       "        vertical-align: top;\n",
       "    }\n",
       "\n",
       "    .dataframe thead th {\n",
       "        text-align: right;\n",
       "    }\n",
       "</style>\n",
       "<table border=\"1\" class=\"dataframe\">\n",
       "  <thead>\n",
       "    <tr style=\"text-align: right;\">\n",
       "      <th></th>\n",
       "      <th>W/L</th>\n",
       "      <th>MIN</th>\n",
       "      <th>PTS</th>\n",
       "      <th>FGM</th>\n",
       "      <th>FGA</th>\n",
       "      <th>FG%</th>\n",
       "      <th>3PM</th>\n",
       "      <th>3PA</th>\n",
       "      <th>3P%</th>\n",
       "      <th>FTM</th>\n",
       "      <th>...</th>\n",
       "      <th>OREB</th>\n",
       "      <th>DREB</th>\n",
       "      <th>REB</th>\n",
       "      <th>AST</th>\n",
       "      <th>STL</th>\n",
       "      <th>BLK</th>\n",
       "      <th>TOV</th>\n",
       "      <th>PF</th>\n",
       "      <th>+/-</th>\n",
       "      <th>GAMEID</th>\n",
       "    </tr>\n",
       "  </thead>\n",
       "  <tbody>\n",
       "    <tr>\n",
       "      <th>count</th>\n",
       "      <td>1968.000000</td>\n",
       "      <td>1968.000000</td>\n",
       "      <td>1968.000000</td>\n",
       "      <td>1968.000000</td>\n",
       "      <td>1968.000000</td>\n",
       "      <td>1968.000000</td>\n",
       "      <td>1968.000000</td>\n",
       "      <td>1968.000000</td>\n",
       "      <td>1968.000000</td>\n",
       "      <td>1968.000000</td>\n",
       "      <td>...</td>\n",
       "      <td>1968.000000</td>\n",
       "      <td>1968.000000</td>\n",
       "      <td>1968.000000</td>\n",
       "      <td>1968.000000</td>\n",
       "      <td>1968.000000</td>\n",
       "      <td>1968.000000</td>\n",
       "      <td>1968.000000</td>\n",
       "      <td>1968.000000</td>\n",
       "      <td>1968.000000</td>\n",
       "      <td>1968.000000</td>\n",
       "    </tr>\n",
       "    <tr>\n",
       "      <th>mean</th>\n",
       "      <td>0.503557</td>\n",
       "      <td>241.434451</td>\n",
       "      <td>106.591972</td>\n",
       "      <td>39.698679</td>\n",
       "      <td>86.127033</td>\n",
       "      <td>46.192175</td>\n",
       "      <td>10.456301</td>\n",
       "      <td>28.979167</td>\n",
       "      <td>36.003811</td>\n",
       "      <td>16.738313</td>\n",
       "      <td>...</td>\n",
       "      <td>9.759146</td>\n",
       "      <td>33.734248</td>\n",
       "      <td>43.493394</td>\n",
       "      <td>23.335874</td>\n",
       "      <td>7.738821</td>\n",
       "      <td>4.825711</td>\n",
       "      <td>13.644309</td>\n",
       "      <td>19.890244</td>\n",
       "      <td>0.112195</td>\n",
       "      <td>1237.110264</td>\n",
       "    </tr>\n",
       "    <tr>\n",
       "      <th>std</th>\n",
       "      <td>0.500114</td>\n",
       "      <td>6.438459</td>\n",
       "      <td>11.941506</td>\n",
       "      <td>5.042893</td>\n",
       "      <td>6.866667</td>\n",
       "      <td>5.472068</td>\n",
       "      <td>3.576617</td>\n",
       "      <td>6.671542</td>\n",
       "      <td>9.136447</td>\n",
       "      <td>5.898749</td>\n",
       "      <td>...</td>\n",
       "      <td>3.656157</td>\n",
       "      <td>5.221481</td>\n",
       "      <td>6.283665</td>\n",
       "      <td>5.181259</td>\n",
       "      <td>2.938252</td>\n",
       "      <td>2.537088</td>\n",
       "      <td>3.716642</td>\n",
       "      <td>4.244815</td>\n",
       "      <td>13.755381</td>\n",
       "      <td>713.825895</td>\n",
       "    </tr>\n",
       "    <tr>\n",
       "      <th>min</th>\n",
       "      <td>0.000000</td>\n",
       "      <td>237.000000</td>\n",
       "      <td>72.000000</td>\n",
       "      <td>25.000000</td>\n",
       "      <td>66.000000</td>\n",
       "      <td>29.900000</td>\n",
       "      <td>1.000000</td>\n",
       "      <td>11.000000</td>\n",
       "      <td>7.700000</td>\n",
       "      <td>1.000000</td>\n",
       "      <td>...</td>\n",
       "      <td>0.000000</td>\n",
       "      <td>18.000000</td>\n",
       "      <td>23.000000</td>\n",
       "      <td>9.000000</td>\n",
       "      <td>0.000000</td>\n",
       "      <td>0.000000</td>\n",
       "      <td>3.000000</td>\n",
       "      <td>8.000000</td>\n",
       "      <td>-61.000000</td>\n",
       "      <td>0.000000</td>\n",
       "    </tr>\n",
       "    <tr>\n",
       "      <th>25%</th>\n",
       "      <td>0.000000</td>\n",
       "      <td>240.000000</td>\n",
       "      <td>98.000000</td>\n",
       "      <td>36.000000</td>\n",
       "      <td>81.000000</td>\n",
       "      <td>42.400000</td>\n",
       "      <td>8.000000</td>\n",
       "      <td>24.000000</td>\n",
       "      <td>29.700000</td>\n",
       "      <td>12.750000</td>\n",
       "      <td>...</td>\n",
       "      <td>7.000000</td>\n",
       "      <td>30.000000</td>\n",
       "      <td>39.000000</td>\n",
       "      <td>20.000000</td>\n",
       "      <td>6.000000</td>\n",
       "      <td>3.000000</td>\n",
       "      <td>11.000000</td>\n",
       "      <td>17.000000</td>\n",
       "      <td>-9.000000</td>\n",
       "      <td>617.750000</td>\n",
       "    </tr>\n",
       "    <tr>\n",
       "      <th>50%</th>\n",
       "      <td>1.000000</td>\n",
       "      <td>240.000000</td>\n",
       "      <td>107.000000</td>\n",
       "      <td>40.000000</td>\n",
       "      <td>86.000000</td>\n",
       "      <td>46.200000</td>\n",
       "      <td>10.000000</td>\n",
       "      <td>29.000000</td>\n",
       "      <td>36.000000</td>\n",
       "      <td>16.000000</td>\n",
       "      <td>...</td>\n",
       "      <td>9.000000</td>\n",
       "      <td>34.000000</td>\n",
       "      <td>43.000000</td>\n",
       "      <td>23.000000</td>\n",
       "      <td>8.000000</td>\n",
       "      <td>5.000000</td>\n",
       "      <td>14.000000</td>\n",
       "      <td>20.000000</td>\n",
       "      <td>1.000000</td>\n",
       "      <td>1245.500000</td>\n",
       "    </tr>\n",
       "    <tr>\n",
       "      <th>75%</th>\n",
       "      <td>1.000000</td>\n",
       "      <td>241.000000</td>\n",
       "      <td>115.000000</td>\n",
       "      <td>43.000000</td>\n",
       "      <td>91.000000</td>\n",
       "      <td>49.500000</td>\n",
       "      <td>13.000000</td>\n",
       "      <td>33.000000</td>\n",
       "      <td>42.125000</td>\n",
       "      <td>21.000000</td>\n",
       "      <td>...</td>\n",
       "      <td>12.000000</td>\n",
       "      <td>37.000000</td>\n",
       "      <td>48.000000</td>\n",
       "      <td>27.000000</td>\n",
       "      <td>10.000000</td>\n",
       "      <td>6.000000</td>\n",
       "      <td>16.000000</td>\n",
       "      <td>23.000000</td>\n",
       "      <td>9.000000</td>\n",
       "      <td>1858.250000</td>\n",
       "    </tr>\n",
       "    <tr>\n",
       "      <th>max</th>\n",
       "      <td>1.000000</td>\n",
       "      <td>317.000000</td>\n",
       "      <td>149.000000</td>\n",
       "      <td>58.000000</td>\n",
       "      <td>113.000000</td>\n",
       "      <td>66.700000</td>\n",
       "      <td>24.000000</td>\n",
       "      <td>57.000000</td>\n",
       "      <td>71.400000</td>\n",
       "      <td>41.000000</td>\n",
       "      <td>...</td>\n",
       "      <td>23.000000</td>\n",
       "      <td>51.000000</td>\n",
       "      <td>68.000000</td>\n",
       "      <td>46.000000</td>\n",
       "      <td>17.000000</td>\n",
       "      <td>16.000000</td>\n",
       "      <td>29.000000</td>\n",
       "      <td>42.000000</td>\n",
       "      <td>61.000000</td>\n",
       "      <td>2459.000000</td>\n",
       "    </tr>\n",
       "  </tbody>\n",
       "</table>\n",
       "<p>8 rows × 22 columns</p>\n",
       "</div>"
      ],
      "text/plain": [
       "               W/L          MIN          PTS          FGM          FGA  \\\n",
       "count  1968.000000  1968.000000  1968.000000  1968.000000  1968.000000   \n",
       "mean      0.503557   241.434451   106.591972    39.698679    86.127033   \n",
       "std       0.500114     6.438459    11.941506     5.042893     6.866667   \n",
       "min       0.000000   237.000000    72.000000    25.000000    66.000000   \n",
       "25%       0.000000   240.000000    98.000000    36.000000    81.000000   \n",
       "50%       1.000000   240.000000   107.000000    40.000000    86.000000   \n",
       "75%       1.000000   241.000000   115.000000    43.000000    91.000000   \n",
       "max       1.000000   317.000000   149.000000    58.000000   113.000000   \n",
       "\n",
       "               FG%          3PM          3PA          3P%          FTM  \\\n",
       "count  1968.000000  1968.000000  1968.000000  1968.000000  1968.000000   \n",
       "mean     46.192175    10.456301    28.979167    36.003811    16.738313   \n",
       "std       5.472068     3.576617     6.671542     9.136447     5.898749   \n",
       "min      29.900000     1.000000    11.000000     7.700000     1.000000   \n",
       "25%      42.400000     8.000000    24.000000    29.700000    12.750000   \n",
       "50%      46.200000    10.000000    29.000000    36.000000    16.000000   \n",
       "75%      49.500000    13.000000    33.000000    42.125000    21.000000   \n",
       "max      66.700000    24.000000    57.000000    71.400000    41.000000   \n",
       "\n",
       "          ...              OREB         DREB          REB          AST  \\\n",
       "count     ...       1968.000000  1968.000000  1968.000000  1968.000000   \n",
       "mean      ...          9.759146    33.734248    43.493394    23.335874   \n",
       "std       ...          3.656157     5.221481     6.283665     5.181259   \n",
       "min       ...          0.000000    18.000000    23.000000     9.000000   \n",
       "25%       ...          7.000000    30.000000    39.000000    20.000000   \n",
       "50%       ...          9.000000    34.000000    43.000000    23.000000   \n",
       "75%       ...         12.000000    37.000000    48.000000    27.000000   \n",
       "max       ...         23.000000    51.000000    68.000000    46.000000   \n",
       "\n",
       "               STL          BLK          TOV           PF          +/-  \\\n",
       "count  1968.000000  1968.000000  1968.000000  1968.000000  1968.000000   \n",
       "mean      7.738821     4.825711    13.644309    19.890244     0.112195   \n",
       "std       2.938252     2.537088     3.716642     4.244815    13.755381   \n",
       "min       0.000000     0.000000     3.000000     8.000000   -61.000000   \n",
       "25%       6.000000     3.000000    11.000000    17.000000    -9.000000   \n",
       "50%       8.000000     5.000000    14.000000    20.000000     1.000000   \n",
       "75%      10.000000     6.000000    16.000000    23.000000     9.000000   \n",
       "max      17.000000    16.000000    29.000000    42.000000    61.000000   \n",
       "\n",
       "            GAMEID  \n",
       "count  1968.000000  \n",
       "mean   1237.110264  \n",
       "std     713.825895  \n",
       "min       0.000000  \n",
       "25%     617.750000  \n",
       "50%    1245.500000  \n",
       "75%    1858.250000  \n",
       "max    2459.000000  \n",
       "\n",
       "[8 rows x 22 columns]"
      ]
     },
     "execution_count": 7,
     "metadata": {},
     "output_type": "execute_result"
    }
   ],
   "source": [
    "train_df.describe()"
   ]
  },
  {
   "cell_type": "markdown",
   "metadata": {},
   "source": [
    "This function tells us the correlation between each of the predictors and our target variable. It is useful in telling us which predictors are worth keeping or dropping. In this table, plus/minus has the highest positive correlation with win/loss. Turnovers have a negative correlation with win/loss. Minutes played has the lowest correlation in magnitude. "
   ]
  },
  {
   "cell_type": "code",
   "execution_count": 8,
   "metadata": {},
   "outputs": [
    {
     "data": {
      "text/plain": [
       "W/L       1.000000\n",
       "+/-       0.800931\n",
       "PTS       0.452650\n",
       "FG%       0.436625\n",
       "FGM       0.363974\n",
       "DREB      0.345247\n",
       "3P%       0.313863\n",
       "AST       0.290596\n",
       "REB       0.266614\n",
       "3PM       0.244942\n",
       "BLK       0.176986\n",
       "STL       0.157702\n",
       "FTM       0.145506\n",
       "FTA       0.115988\n",
       "FT%       0.093874\n",
       "3PA       0.028135\n",
       "MIN       0.012861\n",
       "GAMEID   -0.003666\n",
       "OREB     -0.034842\n",
       "FGA      -0.066602\n",
       "PF       -0.078126\n",
       "TOV      -0.105168\n",
       "Name: W/L, dtype: float64"
      ]
     },
     "execution_count": 8,
     "metadata": {},
     "output_type": "execute_result"
    }
   ],
   "source": [
    "train_df.corr()['W/L'].sort_values(ascending=False)"
   ]
  },
  {
   "cell_type": "markdown",
   "metadata": {},
   "source": [
    "**Distribution Analysis**\n",
    "\n",
    "Next, we will do a distribution analysis. "
   ]
  },
  {
   "cell_type": "code",
   "execution_count": 9,
   "metadata": {},
   "outputs": [
    {
     "data": {
      "text/plain": [
       "<matplotlib.axes._subplots.AxesSubplot at 0x7f111d297080>"
      ]
     },
     "execution_count": 9,
     "metadata": {},
     "output_type": "execute_result"
    },
    {
     "data": {
      "image/png": "[encoded data removed]",
      "text/plain": [
       "<Figure size 432x288 with 1 Axes>"
      ]
     },
     "metadata": {},
     "output_type": "display_data"
    }
   ],
   "source": [
    "train_df['PTS'].hist()"
   ]
  },
  {
   "cell_type": "code",
   "execution_count": 35,
   "metadata": {},
   "outputs": [
    {
     "ename": "NameError",
     "evalue": "name 'sns' is not defined",
     "output_type": "error",
     "traceback": [
      "\u001b[0;31m---------------------------------------------------------------------------\u001b[0m",
      "\u001b[0;31mNameError\u001b[0m                                 Traceback (most recent call last)",
      "\u001b[0;32m<ipython-input-35-353962cf60b4>\u001b[0m in \u001b[0;36m<module>\u001b[0;34m()\u001b[0m\n\u001b[0;32m----> 1\u001b[0;31m \u001b[0mg\u001b[0m \u001b[0;34m=\u001b[0m \u001b[0msns\u001b[0m\u001b[0;34m.\u001b[0m\u001b[0mFacetGrid\u001b[0m\u001b[0;34m(\u001b[0m\u001b[0mtrain_df\u001b[0m\u001b[0;34m,\u001b[0m \u001b[0mcol\u001b[0m\u001b[0;34m=\u001b[0m\u001b[0;34m'W/L'\u001b[0m\u001b[0;34m)\u001b[0m\u001b[0;34m\u001b[0m\u001b[0;34m\u001b[0m\u001b[0m\n\u001b[0m\u001b[1;32m      2\u001b[0m \u001b[0mg\u001b[0m\u001b[0;34m.\u001b[0m\u001b[0mmap\u001b[0m\u001b[0;34m(\u001b[0m\u001b[0mplt\u001b[0m\u001b[0;34m.\u001b[0m\u001b[0mhist\u001b[0m\u001b[0;34m,\u001b[0m \u001b[0;34m'PTS'\u001b[0m\u001b[0;34m,\u001b[0m \u001b[0mbins\u001b[0m\u001b[0;34m=\u001b[0m\u001b[0;36m20\u001b[0m\u001b[0;34m)\u001b[0m\u001b[0;34m\u001b[0m\u001b[0;34m\u001b[0m\u001b[0m\n",
      "\u001b[0;31mNameError\u001b[0m: name 'sns' is not defined"
     ]
    }
   ],
   "source": [
    "g = sns.FacetGrid(train_df, col='W/L')\n",
    "g.map(plt.hist, 'PTS', bins=20)"
   ]
  },
  {
   "cell_type": "code",
   "execution_count": 10,
   "metadata": {},
   "outputs": [
    {
     "data": {
      "text/plain": [
       "<matplotlib.axes._subplots.AxesSubplot at 0x7f111b28f3c8>"
      ]
     },
     "execution_count": 10,
     "metadata": {},
     "output_type": "execute_result"
    },
    {
     "data": {
      "image/png": "[encoded data removed]",
      "text/plain": [
       "<Figure size 432x288 with 1 Axes>"
      ]
     },
     "metadata": {},
     "output_type": "display_data"
    }
   ],
   "source": [
    "train_df['FG%'].hist()"
   ]
  },
  {
   "cell_type": "code",
   "execution_count": 11,
   "metadata": {},
   "outputs": [
    {
     "data": {
      "text/plain": [
       "<matplotlib.axes._subplots.AxesSubplot at 0x7f111b173518>"
      ]
     },
     "execution_count": 11,
     "metadata": {},
     "output_type": "execute_result"
    },
    {
     "data": {
      "image/png": "[encoded data removed]",
      "text/plain": [
       "<Figure size 432x288 with 1 Axes>"
      ]
     },
     "metadata": {},
     "output_type": "display_data"
    }
   ],
   "source": [
    "train_df['3P%'].hist()"
   ]
  },
  {
   "cell_type": "code",
   "execution_count": 12,
   "metadata": {},
   "outputs": [
    {
     "data": {
      "text/plain": [
       "<matplotlib.axes._subplots.AxesSubplot at 0x7f111b1443c8>"
      ]
     },
     "execution_count": 12,
     "metadata": {},
     "output_type": "execute_result"
    },
    {
     "data": {
      "image/png": "[encoded data removed]",
      "text/plain": [
       "<Figure size 432x288 with 1 Axes>"
      ]
     },
     "metadata": {},
     "output_type": "display_data"
    }
   ],
   "source": [
    "train_df['FT%'].hist()"
   ]
  },
  {
   "cell_type": "code",
   "execution_count": 13,
   "metadata": {},
   "outputs": [
    {
     "data": {
      "text/plain": [
       "<matplotlib.axes._subplots.AxesSubplot at 0x7f111b0a5eb8>"
      ]
     },
     "execution_count": 13,
     "metadata": {},
     "output_type": "execute_result"
    },
    {
     "data": {
      "image/png": "[encoded data removed]",
      "text/plain": [
       "<Figure size 432x288 with 1 Axes>"
      ]
     },
     "metadata": {},
     "output_type": "display_data"
    }
   ],
   "source": [
    "train_df['OREB'].hist()"
   ]
  },
  {
   "cell_type": "code",
   "execution_count": 14,
   "metadata": {},
   "outputs": [
    {
     "data": {
      "text/plain": [
       "<matplotlib.axes._subplots.AxesSubplot at 0x7f111b041eb8>"
      ]
     },
     "execution_count": 14,
     "metadata": {},
     "output_type": "execute_result"
    },
    {
     "data": {
      "image/png": "[encoded data removed]",
      "text/plain": [
       "<Figure size 432x288 with 1 Axes>"
      ]
     },
     "metadata": {},
     "output_type": "display_data"
    }
   ],
   "source": [
    "train_df['DREB'].hist()"
   ]
  },
  {
   "cell_type": "code",
   "execution_count": 15,
   "metadata": {},
   "outputs": [
    {
     "data": {
      "text/plain": [
       "<matplotlib.axes._subplots.AxesSubplot at 0x7f111afc7cf8>"
      ]
     },
     "execution_count": 15,
     "metadata": {},
     "output_type": "execute_result"
    },
    {
     "data": {
      "image/png": "[encoded data removed]",
      "text/plain": [
       "<Figure size 432x288 with 1 Axes>"
      ]
     },
     "metadata": {},
     "output_type": "display_data"
    }
   ],
   "source": [
    "train_df['AST'].hist()"
   ]
  },
  {
   "cell_type": "code",
   "execution_count": 16,
   "metadata": {},
   "outputs": [
    {
     "data": {
      "text/plain": [
       "<matplotlib.axes._subplots.AxesSubplot at 0x7f111b0ec320>"
      ]
     },
     "execution_count": 16,
     "metadata": {},
     "output_type": "execute_result"
    },
    {
     "data": {
      "image/png": "[encoded data removed]",
      "text/plain": [
       "<Figure size 432x288 with 1 Axes>"
      ]
     },
     "metadata": {},
     "output_type": "display_data"
    }
   ],
   "source": [
    "train_df['STL'].hist()"
   ]
  },
  {
   "cell_type": "code",
   "execution_count": 17,
   "metadata": {},
   "outputs": [
    {
     "data": {
      "text/plain": [
       "<matplotlib.axes._subplots.AxesSubplot at 0x7f111af89e10>"
      ]
     },
     "execution_count": 17,
     "metadata": {},
     "output_type": "execute_result"
    },
    {
     "data": {
      "image/png": "[encoded data removed]",
      "text/plain": [
       "<Figure size 432x288 with 1 Axes>"
      ]
     },
     "metadata": {},
     "output_type": "display_data"
    }
   ],
   "source": [
    "train_df['BLK'].hist()"
   ]
  },
  {
   "cell_type": "code",
   "execution_count": 18,
   "metadata": {},
   "outputs": [
    {
     "data": {
      "text/plain": [
       "<matplotlib.axes._subplots.AxesSubplot at 0x7f111ae90080>"
      ]
     },
     "execution_count": 18,
     "metadata": {},
     "output_type": "execute_result"
    },
    {
     "data": {
      "image/png": "[encoded data removed]",
      "text/plain": [
       "<Figure size 432x288 with 1 Axes>"
      ]
     },
     "metadata": {},
     "output_type": "display_data"
    }
   ],
   "source": [
    "train_df['TOV'].hist()"
   ]
  },
  {
   "cell_type": "code",
   "execution_count": 19,
   "metadata": {},
   "outputs": [
    {
     "data": {
      "text/plain": [
       "<matplotlib.axes._subplots.AxesSubplot at 0x7f111adaca90>"
      ]
     },
     "execution_count": 19,
     "metadata": {},
     "output_type": "execute_result"
    },
    {
     "data": {
      "image/png": "[encoded data removed]",
      "text/plain": [
       "<Figure size 432x288 with 1 Axes>"
      ]
     },
     "metadata": {},
     "output_type": "display_data"
    }
   ],
   "source": [
    "train_df['PF'].hist()"
   ]
  },
  {
   "cell_type": "code",
   "execution_count": 20,
   "metadata": {},
   "outputs": [
    {
     "data": {
      "text/plain": [
       "<matplotlib.axes._subplots.AxesSubplot at 0x7f111ad70748>"
      ]
     },
     "execution_count": 20,
     "metadata": {},
     "output_type": "execute_result"
    },
    {
     "data": {
      "image/png": "[encoded data removed]",
      "text/plain": [
       "<Figure size 432x288 with 1 Axes>"
      ]
     },
     "metadata": {},
     "output_type": "display_data"
    }
   ],
   "source": [
    "train_df.boxplot(column='PTS', by='HOME/AWAY')"
   ]
  },
  {
   "cell_type": "code",
   "execution_count": 21,
   "metadata": {},
   "outputs": [
    {
     "data": {
      "text/plain": [
       "<matplotlib.axes._subplots.AxesSubplot at 0x7f111ac96b70>"
      ]
     },
     "execution_count": 21,
     "metadata": {},
     "output_type": "execute_result"
    },
    {
     "data": {
      "image/png": "[encoded data removed]",
      "text/plain": [
       "<Figure size 432x288 with 1 Axes>"
      ]
     },
     "metadata": {},
     "output_type": "display_data"
    }
   ],
   "source": [
    "train_df['+/-'].hist()"
   ]
  },
  {
   "cell_type": "code",
   "execution_count": 22,
   "metadata": {},
   "outputs": [
    {
     "data": {
      "text/plain": [
       "<matplotlib.axes._subplots.AxesSubplot at 0x7f111ac18cc0>"
      ]
     },
     "execution_count": 22,
     "metadata": {},
     "output_type": "execute_result"
    },
    {
     "data": {
      "image/png": "[encoded data removed]",
      "text/plain": [
       "<Figure size 432x288 with 1 Axes>"
      ]
     },
     "metadata": {},
     "output_type": "display_data"
    }
   ],
   "source": [
    "train_df.plot.scatter('OREB', 'REB', s=None, c=None)"
   ]
  },
  {
   "cell_type": "markdown",
   "metadata": {},
   "source": [
    "**Home/Away Feature**\n",
    "\n",
    "Prediction: Teams that are playing in their home court have an advantage and are more likely to win. We will see if that's true. "
   ]
  },
  {
   "cell_type": "code",
   "execution_count": 23,
   "metadata": {},
   "outputs": [
    {
     "name": "stdout",
     "output_type": "stream",
     "text": [
      "Frequency Table for Home/Away Games:\n",
      "A     963\n",
      "H    1005\n",
      "Name: HOME/AWAY, dtype: int64\n",
      "\n",
      "Probility of winning by home/away games:\n",
      "                W/L\n",
      "HOME/AWAY          \n",
      "A          0.430945\n",
      "H          0.573134\n"
     ]
    }
   ],
   "source": [
    "temp1 = train_df['HOME/AWAY'].value_counts().sort_index()\n",
    "temp2 = train_df.pivot_table(values='W/L',index=['HOME/AWAY'],aggfunc=lambda x: x.mean())\n",
    "print (\"Frequency Table for Home/Away Games:\")\n",
    "print (temp1)\n",
    "\n",
    "print (\"\\nProbility of winning by home/away games:\") \n",
    "print (temp2)"
   ]
  },
  {
   "cell_type": "code",
   "execution_count": 24,
   "metadata": {},
   "outputs": [
    {
     "data": {
      "text/plain": [
       "Text(0.5, 1.0, 'Probability of winning by home/away games')"
      ]
     },
     "execution_count": 24,
     "metadata": {},
     "output_type": "execute_result"
    },
    {
     "data": {
      "image/png": "[encoded data removed]",
      "text/plain": [
       "<Figure size 720x360 with 2 Axes>"
      ]
     },
     "metadata": {},
     "output_type": "display_data"
    }
   ],
   "source": [
    "fig, (ax1, ax2) = plt.subplots(nrows = 1, ncols=2, figsize=(10,5))\n",
    "ax1.set_xlabel('Home/Away Game')\n",
    "ax1.set_ylabel('Count of Wins/Losses')\n",
    "ax1.set_title(\"Wins by Home/Away Games\")\n",
    "temp1.plot(kind='bar', ax=ax1)\n",
    "\n",
    "temp2.plot(kind='bar', ax=ax2)\n",
    "ax2.set_xlabel('Home/Away Game')\n",
    "ax2.set_ylabel('Probability of winning')\n",
    "ax2.set_title(\"Probability of winning by home/away games\")"
   ]
  },
  {
   "cell_type": "code",
   "execution_count": 25,
   "metadata": {},
   "outputs": [
    {
     "data": {
      "text/plain": [
       "<matplotlib.axes._subplots.AxesSubplot at 0x7f111ab41470>"
      ]
     },
     "execution_count": 25,
     "metadata": {},
     "output_type": "execute_result"
    },
    {
     "data": {
      "image/png": "[encoded data removed]",
      "text/plain": [
       "<Figure size 432x288 with 1 Axes>"
      ]
     },
     "metadata": {},
     "output_type": "display_data"
    }
   ],
   "source": [
    "temp3 = pd.crosstab(train_df['HOME/AWAY'], train_df['W/L'])\n",
    "temp3.plot(kind='bar', stacked=True, color=['red','blue'], grid=False)"
   ]
  },
  {
   "cell_type": "markdown",
   "metadata": {},
   "source": [
    "As predicted, teams playing at home have a higher chance at winning. The home/away feature is essential in our predictions."
   ]
  },
  {
   "cell_type": "markdown",
   "metadata": {
    "collapsed": true
   },
   "source": [
    "**Predictive Modelling**"
   ]
  },
  {
   "cell_type": "code",
   "execution_count": 26,
   "metadata": {},
   "outputs": [
    {
     "data": {
      "text/plain": [
       "TEAM           int64\n",
       "DATE           int64\n",
       "MATCHUP        int64\n",
       "W/L            int64\n",
       "MIN            int64\n",
       "PTS            int64\n",
       "FGM            int64\n",
       "FGA            int64\n",
       "FG%          float64\n",
       "3PM            int64\n",
       "3PA            int64\n",
       "3P%          float64\n",
       "FTM            int64\n",
       "FTA            int64\n",
       "FT%          float64\n",
       "OREB           int64\n",
       "DREB           int64\n",
       "REB            int64\n",
       "AST            int64\n",
       "STL            int64\n",
       "BLK            int64\n",
       "TOV            int64\n",
       "PF             int64\n",
       "+/-          float64\n",
       "GAMEID         int64\n",
       "HOME/AWAY      int64\n",
       "dtype: object"
      ]
     },
     "execution_count": 26,
     "metadata": {},
     "output_type": "execute_result"
    }
   ],
   "source": [
    "train_df = train_df.copy()\n",
    "\n",
    "from sklearn.preprocessing import LabelEncoder\n",
    "var_mod = ['TEAM','DATE','MATCHUP','HOME/AWAY']\n",
    "le = LabelEncoder()\n",
    "for i in var_mod:\n",
    "    train_df.loc[:,i] = le.fit_transform(train_df.loc[:,i].astype('str'))\n",
    "train_df.dtypes"
   ]
  },
  {
   "cell_type": "code",
   "execution_count": 34,
   "metadata": {},
   "outputs": [
    {
     "data": {
      "text/html": [
       "<div>\n",
       "<style scoped>\n",
       "    .dataframe tbody tr th:only-of-type {\n",
       "        vertical-align: middle;\n",
       "    }\n",
       "\n",
       "    .dataframe tbody tr th {\n",
       "        vertical-align: top;\n",
       "    }\n",
       "\n",
       "    .dataframe thead th {\n",
       "        text-align: right;\n",
       "    }\n",
       "</style>\n",
       "<table border=\"1\" class=\"dataframe\">\n",
       "  <thead>\n",
       "    <tr style=\"text-align: right;\">\n",
       "      <th></th>\n",
       "      <th>TEAM</th>\n",
       "      <th>DATE</th>\n",
       "      <th>MATCHUP</th>\n",
       "      <th>W/L</th>\n",
       "      <th>MIN</th>\n",
       "      <th>PTS</th>\n",
       "      <th>FGM</th>\n",
       "      <th>FGA</th>\n",
       "      <th>FG%</th>\n",
       "      <th>3PM</th>\n",
       "      <th>...</th>\n",
       "      <th>DREB</th>\n",
       "      <th>REB</th>\n",
       "      <th>AST</th>\n",
       "      <th>STL</th>\n",
       "      <th>BLK</th>\n",
       "      <th>TOV</th>\n",
       "      <th>PF</th>\n",
       "      <th>+/-</th>\n",
       "      <th>GAMEID</th>\n",
       "      <th>HOME/AWAY</th>\n",
       "    </tr>\n",
       "  </thead>\n",
       "  <tbody>\n",
       "    <tr>\n",
       "      <th>1782</th>\n",
       "      <td>20</td>\n",
       "      <td>140</td>\n",
       "      <td>1041</td>\n",
       "      <td>1</td>\n",
       "      <td>239</td>\n",
       "      <td>90</td>\n",
       "      <td>37</td>\n",
       "      <td>87</td>\n",
       "      <td>42.5</td>\n",
       "      <td>6</td>\n",
       "      <td>...</td>\n",
       "      <td>32</td>\n",
       "      <td>47</td>\n",
       "      <td>21</td>\n",
       "      <td>8</td>\n",
       "      <td>2</td>\n",
       "      <td>20</td>\n",
       "      <td>19</td>\n",
       "      <td>3.0</td>\n",
       "      <td>1782</td>\n",
       "      <td>1</td>\n",
       "    </tr>\n",
       "    <tr>\n",
       "      <th>446</th>\n",
       "      <td>4</td>\n",
       "      <td>19</td>\n",
       "      <td>195</td>\n",
       "      <td>1</td>\n",
       "      <td>239</td>\n",
       "      <td>113</td>\n",
       "      <td>40</td>\n",
       "      <td>80</td>\n",
       "      <td>50.0</td>\n",
       "      <td>14</td>\n",
       "      <td>...</td>\n",
       "      <td>44</td>\n",
       "      <td>48</td>\n",
       "      <td>31</td>\n",
       "      <td>8</td>\n",
       "      <td>1</td>\n",
       "      <td>16</td>\n",
       "      <td>23</td>\n",
       "      <td>16.0</td>\n",
       "      <td>446</td>\n",
       "      <td>0</td>\n",
       "    </tr>\n",
       "    <tr>\n",
       "      <th>1730</th>\n",
       "      <td>20</td>\n",
       "      <td>75</td>\n",
       "      <td>1032</td>\n",
       "      <td>1</td>\n",
       "      <td>240</td>\n",
       "      <td>105</td>\n",
       "      <td>36</td>\n",
       "      <td>84</td>\n",
       "      <td>42.9</td>\n",
       "      <td>8</td>\n",
       "      <td>...</td>\n",
       "      <td>39</td>\n",
       "      <td>51</td>\n",
       "      <td>17</td>\n",
       "      <td>7</td>\n",
       "      <td>1</td>\n",
       "      <td>11</td>\n",
       "      <td>23</td>\n",
       "      <td>6.0</td>\n",
       "      <td>1730</td>\n",
       "      <td>1</td>\n",
       "    </tr>\n",
       "    <tr>\n",
       "      <th>1014</th>\n",
       "      <td>11</td>\n",
       "      <td>30</td>\n",
       "      <td>574</td>\n",
       "      <td>1</td>\n",
       "      <td>240</td>\n",
       "      <td>105</td>\n",
       "      <td>37</td>\n",
       "      <td>70</td>\n",
       "      <td>52.9</td>\n",
       "      <td>10</td>\n",
       "      <td>...</td>\n",
       "      <td>25</td>\n",
       "      <td>33</td>\n",
       "      <td>20</td>\n",
       "      <td>16</td>\n",
       "      <td>4</td>\n",
       "      <td>14</td>\n",
       "      <td>15</td>\n",
       "      <td>4.0</td>\n",
       "      <td>1014</td>\n",
       "      <td>1</td>\n",
       "    </tr>\n",
       "    <tr>\n",
       "      <th>1948</th>\n",
       "      <td>22</td>\n",
       "      <td>136</td>\n",
       "      <td>1140</td>\n",
       "      <td>1</td>\n",
       "      <td>240</td>\n",
       "      <td>118</td>\n",
       "      <td>37</td>\n",
       "      <td>81</td>\n",
       "      <td>45.7</td>\n",
       "      <td>3</td>\n",
       "      <td>...</td>\n",
       "      <td>43</td>\n",
       "      <td>64</td>\n",
       "      <td>23</td>\n",
       "      <td>6</td>\n",
       "      <td>8</td>\n",
       "      <td>17</td>\n",
       "      <td>27</td>\n",
       "      <td>5.0</td>\n",
       "      <td>1948</td>\n",
       "      <td>1</td>\n",
       "    </tr>\n",
       "  </tbody>\n",
       "</table>\n",
       "<p>5 rows × 26 columns</p>\n",
       "</div>"
      ],
      "text/plain": [
       "      TEAM  DATE  MATCHUP  W/L  MIN  PTS  FGM  FGA   FG%  3PM    ...      \\\n",
       "1782    20   140     1041    1  239   90   37   87  42.5    6    ...       \n",
       "446      4    19      195    1  239  113   40   80  50.0   14    ...       \n",
       "1730    20    75     1032    1  240  105   36   84  42.9    8    ...       \n",
       "1014    11    30      574    1  240  105   37   70  52.9   10    ...       \n",
       "1948    22   136     1140    1  240  118   37   81  45.7    3    ...       \n",
       "\n",
       "      DREB  REB  AST  STL  BLK  TOV  PF   +/-  GAMEID  HOME/AWAY  \n",
       "1782    32   47   21    8    2   20  19   3.0    1782          1  \n",
       "446     44   48   31    8    1   16  23  16.0     446          0  \n",
       "1730    39   51   17    7    1   11  23   6.0    1730          1  \n",
       "1014    25   33   20   16    4   14  15   4.0    1014          1  \n",
       "1948    43   64   23    6    8   17  27   5.0    1948          1  \n",
       "\n",
       "[5 rows x 26 columns]"
      ]
     },
     "execution_count": 34,
     "metadata": {},
     "output_type": "execute_result"
    }
   ],
   "source": [
    "train_df.head()"
   ]
  },
  {
   "cell_type": "code",
   "execution_count": 28,
   "metadata": {},
   "outputs": [],
   "source": [
    "#Import models from scikit learn module:\n",
    "from sklearn.linear_model import LogisticRegression\n",
    "from sklearn.model_selection import KFold   #For K-fold cross validation\n",
    "from sklearn.ensemble import RandomForestClassifier\n",
    "from sklearn.tree import DecisionTreeClassifier, export_graphviz\n",
    "from sklearn import metrics\n",
    "\n",
    "#Generic function for making a classification model and accessing performance:\n",
    "def classification_model(model, data, predictors, outcome):\n",
    "    #Fit the model:\n",
    "    model.fit(data[predictors],data[outcome])\n",
    "  \n",
    "    #Make predictions on training set:\n",
    "    predictions = model.predict(data[predictors])\n",
    "    \n",
    "    #Print accuracy\n",
    "    accuracy = metrics.accuracy_score(predictions,data[outcome])\n",
    "    print (\"Accuracy : %s\" % \"{0:.3%}\".format(accuracy))\n",
    "\n",
    "    #Perform k-fold cross-validation with 5 folds\n",
    "    kf = KFold(n_splits=5, random_state=None, shuffle=False)\n",
    "    error = []\n",
    "    for train, test in kf.split(train_df):\n",
    "        # Filter training data\n",
    "        train_predictors = (data[predictors].iloc[train,:])\n",
    "    \n",
    "        # The target we're using to train the algorithm.\n",
    "        train_target = data[outcome].iloc[train]\n",
    "\n",
    "        # Training the algorithm using the predictors and target.\n",
    "        model.fit(train_predictors, train_target)\n",
    "\n",
    "        #Record error from each cross-validation run\n",
    "        error.append(model.score(data[predictors].iloc[test,:], data[outcome].iloc[test]))\n",
    " \n",
    "    print (\"Cross-Validation Score : %s\" % \"{0:.3%}\".format(np.mean(error)))\n",
    "\n",
    "    #Fit the model again so that it can be refered outside the function:\n",
    "    model.fit(data[predictors],data[outcome])"
   ]
  },
  {
   "cell_type": "code",
   "execution_count": 29,
   "metadata": {},
   "outputs": [
    {
     "name": "stdout",
     "output_type": "stream",
     "text": [
      "Accuracy : 72.967%\n",
      "Cross-Validation Score : 72.356%\n"
     ]
    }
   ],
   "source": [
    "outcome_var = 'W/L'\n",
    "model = LogisticRegression()\n",
    "predictor_var = [\"PTS\",\"REB\"]\n",
    "#predictor_var = [\"PTS\",\"FG%\",\"3P%\",\"FT%\",\"REB\",\"AST\",\"STL\",\"BLK\",\"TOV\",\"PF\",\"+/-\",\"HOME/AWAY\"]\n",
    "classification_model(model, train_df, predictor_var, outcome_var)"
   ]
  },
  {
   "cell_type": "code",
   "execution_count": 30,
   "metadata": {},
   "outputs": [
    {
     "data": {
      "text/plain": [
       "TEAM           int64\n",
       "DATE           int64\n",
       "MATCHUP        int64\n",
       "W/L            int64\n",
       "MIN            int64\n",
       "PTS            int64\n",
       "FGM            int64\n",
       "FGA            int64\n",
       "FG%          float64\n",
       "3PM            int64\n",
       "3PA            int64\n",
       "3P%          float64\n",
       "FTM            int64\n",
       "FTA            int64\n",
       "FT%          float64\n",
       "OREB           int64\n",
       "DREB           int64\n",
       "REB            int64\n",
       "AST            int64\n",
       "STL            int64\n",
       "BLK            int64\n",
       "TOV            int64\n",
       "PF             int64\n",
       "+/-          float64\n",
       "GAMEID         int64\n",
       "HOME/AWAY      int64\n",
       "dtype: object"
      ]
     },
     "execution_count": 30,
     "metadata": {},
     "output_type": "execute_result"
    }
   ],
   "source": [
    "for i in var_mod:\n",
    "    test_df.loc[:,i] = le.fit_transform(test_df.loc[:,i].astype('str'))\n",
    "test_df.dtypes"
   ]
  },
  {
   "cell_type": "code",
   "execution_count": 31,
   "metadata": {},
   "outputs": [],
   "source": [
    "predictions = model.predict(test_df[[\"PTS\",\"REB\"]])\n",
    "\n",
    "#predictions = model.predict(test_df[[\"PTS\",\"FG%\",\"3P%\",\"FT%\",\"REB\",\"AST\",\"STL\",\"BLK\",\"TOV\",\"PF\",\"+/-\",\"HOME/AWAY\"]])\n",
    "\n",
    "submission = pd.DataFrame({\"GAMEID\": test_df[\"GAMEID\"], \"W/L\": predictions})\n",
    "\n",
    "submission.to_csv(\"game_submission.csv\", index=False)"
   ]
  },
  {
   "cell_type": "code",
   "execution_count": 32,
   "metadata": {},
   "outputs": [],
   "source": [
    "#test_df[[\"W/L\",\"PTS\",\"FG%\",\"3P%\",\"FT%\",\"REB\",\"AST\",\"STL\",\"BLK\",\"TOV\",\"PF\",\"+/-\",\"HOME/AWAY\"]]"
   ]
  },
  {
   "cell_type": "code",
   "execution_count": 33,
   "metadata": {},
   "outputs": [
    {
     "name": "stdout",
     "output_type": "stream",
     "text": [
      "Accuracy : 76.220%\n"
     ]
    }
   ],
   "source": [
    "correct = 0\n",
    "for gameid in submission.loc[:,\"GAMEID\"]:\n",
    "    if (submission.loc[gameid,:][\"W/L\"] == test_df.loc[gameid,:][\"W/L\"]):\n",
    "        correct = correct + 1\n",
    "print (\"Accuracy : %s\" % \"{0:.3%}\".format(correct/submission.shape[0]))"
   ]
  }
 ],
 "metadata": {
  "kernelspec": {
   "display_name": "Python 3",
   "language": "python",
   "name": "python3"
  },
  "language_info": {
   "codemirror_mode": {
    "name": "ipython",
    "version": 3
   },
   "file_extension": ".py",
   "mimetype": "text/x-python",
   "name": "python",
   "nbconvert_exporter": "python",
   "pygments_lexer": "ipython3",
   "version": "3.6.7"
  }
 },
 "nbformat": 4,
 "nbformat_minor": 2
}
