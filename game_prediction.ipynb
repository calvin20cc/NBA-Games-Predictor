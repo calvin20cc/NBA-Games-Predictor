{
 "cells": [
  {
   "cell_type": "code",
   "execution_count": 1,
   "metadata": {},
   "outputs": [],
   "source": [
    "# data analysis and wrangling\n",
    "import pandas as pd\n",
    "import numpy as np\n",
    "\n",
    "# visualization\n",
    "import seaborn as sns\n",
    "import matplotlib.pyplot as plt\n",
    "%matplotlib inline\n",
    "\n",
    "# machine learning\n",
    "from sklearn import datasets, linear_model\n",
    "from sklearn.model_selection import train_test_split\n",
    "\n",
    "import warnings\n",
    "warnings.filterwarnings('ignore')\n",
    "\n",
    "df = pd.read_csv(\"/home/calvin/Desktop/NBA-Games-Predictor/game_stats.csv\")"
   ]
  },
  {
   "cell_type": "markdown",
   "metadata": {},
   "source": [
    "**Problem**\n",
    "\n",
    "The objective is to analyze a NBA Game Boxscore dataset and predict the win/loss outcome of games."
   ]
  },
  {
   "cell_type": "markdown",
   "metadata": {},
   "source": [
    "**Data Wrangling**\n",
    "\n",
    "Each game is assigned a unique integer id."
   ]
  },
  {
   "cell_type": "code",
   "execution_count": 2,
   "metadata": {},
   "outputs": [],
   "source": [
    "rows = df.shape[0]\n",
    "df['GAMEID'] = np.arange(0, rows, 1)"
   ]
  },
  {
   "cell_type": "markdown",
   "metadata": {},
   "source": [
    "Since the Matchup column is in an unpleasant format, we will reformat it by creating a new column called Home/Away. \"H\" denotes home court advantage and \"A\" denotes away court."
   ]
  },
  {
   "cell_type": "code",
   "execution_count": 3,
   "metadata": {},
   "outputs": [],
   "source": [
    "s = df['MATCHUP'].str.contains('@', regex=False)\n",
    "df['HOME/AWAY'] = s\n",
    "df['HOME/AWAY'] = np.where(df['HOME/AWAY'] == True, \"A\", \"H\")"
   ]
  },
  {
   "cell_type": "markdown",
   "metadata": {},
   "source": [
    "Win/Loss values are given in strings, so we will convert the values. \"1\" denotes a win and \"0\" denotes a loss."
   ]
  },
  {
   "cell_type": "code",
   "execution_count": 4,
   "metadata": {},
   "outputs": [],
   "source": [
    "df['W/L'] = np.where(df['W/L'] == 'W', 1, 0)"
   ]
  },
  {
   "cell_type": "code",
   "execution_count": 5,
   "metadata": {},
   "outputs": [
    {
     "data": {
      "text/html": [
       "<div>\n",
       "<style scoped>\n",
       "    .dataframe tbody tr th:only-of-type {\n",
       "        vertical-align: middle;\n",
       "    }\n",
       "\n",
       "    .dataframe tbody tr th {\n",
       "        vertical-align: top;\n",
       "    }\n",
       "\n",
       "    .dataframe thead th {\n",
       "        text-align: right;\n",
       "    }\n",
       "</style>\n",
       "<table border=\"1\" class=\"dataframe\">\n",
       "  <thead>\n",
       "    <tr style=\"text-align: right;\">\n",
       "      <th></th>\n",
       "      <th>TEAM</th>\n",
       "      <th>DATE</th>\n",
       "      <th>MATCHUP</th>\n",
       "      <th>W/L</th>\n",
       "      <th>MIN</th>\n",
       "      <th>PTS</th>\n",
       "      <th>FGM</th>\n",
       "      <th>FGA</th>\n",
       "      <th>FG%</th>\n",
       "      <th>3PM</th>\n",
       "      <th>...</th>\n",
       "      <th>DREB</th>\n",
       "      <th>REB</th>\n",
       "      <th>AST</th>\n",
       "      <th>STL</th>\n",
       "      <th>BLK</th>\n",
       "      <th>TOV</th>\n",
       "      <th>PF</th>\n",
       "      <th>+/-</th>\n",
       "      <th>GAMEID</th>\n",
       "      <th>HOME/AWAY</th>\n",
       "    </tr>\n",
       "  </thead>\n",
       "  <tbody>\n",
       "    <tr>\n",
       "      <th>0</th>\n",
       "      <td>ATL</td>\n",
       "      <td>01/10/2018</td>\n",
       "      <td>ATL @ DEN</td>\n",
       "      <td>1</td>\n",
       "      <td>239</td>\n",
       "      <td>110</td>\n",
       "      <td>40</td>\n",
       "      <td>80</td>\n",
       "      <td>50.0</td>\n",
       "      <td>12</td>\n",
       "      <td>...</td>\n",
       "      <td>38</td>\n",
       "      <td>44</td>\n",
       "      <td>25</td>\n",
       "      <td>6</td>\n",
       "      <td>4</td>\n",
       "      <td>16</td>\n",
       "      <td>23</td>\n",
       "      <td>13.0</td>\n",
       "      <td>0</td>\n",
       "      <td>A</td>\n",
       "    </tr>\n",
       "    <tr>\n",
       "      <th>1</th>\n",
       "      <td>ATL</td>\n",
       "      <td>04/10/2018</td>\n",
       "      <td>ATL vs. PHI</td>\n",
       "      <td>0</td>\n",
       "      <td>240</td>\n",
       "      <td>113</td>\n",
       "      <td>41</td>\n",
       "      <td>98</td>\n",
       "      <td>41.8</td>\n",
       "      <td>13</td>\n",
       "      <td>...</td>\n",
       "      <td>31</td>\n",
       "      <td>39</td>\n",
       "      <td>27</td>\n",
       "      <td>10</td>\n",
       "      <td>3</td>\n",
       "      <td>10</td>\n",
       "      <td>24</td>\n",
       "      <td>-8.0</td>\n",
       "      <td>1</td>\n",
       "      <td>H</td>\n",
       "    </tr>\n",
       "    <tr>\n",
       "      <th>2</th>\n",
       "      <td>ATL</td>\n",
       "      <td>04/06/2018</td>\n",
       "      <td>ATL @ WAS</td>\n",
       "      <td>1</td>\n",
       "      <td>239</td>\n",
       "      <td>103</td>\n",
       "      <td>38</td>\n",
       "      <td>79</td>\n",
       "      <td>48.1</td>\n",
       "      <td>11</td>\n",
       "      <td>...</td>\n",
       "      <td>43</td>\n",
       "      <td>50</td>\n",
       "      <td>24</td>\n",
       "      <td>5</td>\n",
       "      <td>5</td>\n",
       "      <td>18</td>\n",
       "      <td>22</td>\n",
       "      <td>6.0</td>\n",
       "      <td>2</td>\n",
       "      <td>A</td>\n",
       "    </tr>\n",
       "    <tr>\n",
       "      <th>3</th>\n",
       "      <td>ATL</td>\n",
       "      <td>04/04/2018</td>\n",
       "      <td>ATL vs. MIA</td>\n",
       "      <td>0</td>\n",
       "      <td>239</td>\n",
       "      <td>86</td>\n",
       "      <td>33</td>\n",
       "      <td>90</td>\n",
       "      <td>36.7</td>\n",
       "      <td>9</td>\n",
       "      <td>...</td>\n",
       "      <td>38</td>\n",
       "      <td>48</td>\n",
       "      <td>20</td>\n",
       "      <td>5</td>\n",
       "      <td>6</td>\n",
       "      <td>15</td>\n",
       "      <td>16</td>\n",
       "      <td>-29.0</td>\n",
       "      <td>3</td>\n",
       "      <td>H</td>\n",
       "    </tr>\n",
       "    <tr>\n",
       "      <th>4</th>\n",
       "      <td>ATL</td>\n",
       "      <td>04/03/2018</td>\n",
       "      <td>ATL @ MIA</td>\n",
       "      <td>0</td>\n",
       "      <td>240</td>\n",
       "      <td>98</td>\n",
       "      <td>37</td>\n",
       "      <td>88</td>\n",
       "      <td>42.0</td>\n",
       "      <td>13</td>\n",
       "      <td>...</td>\n",
       "      <td>37</td>\n",
       "      <td>49</td>\n",
       "      <td>24</td>\n",
       "      <td>10</td>\n",
       "      <td>1</td>\n",
       "      <td>15</td>\n",
       "      <td>15</td>\n",
       "      <td>-3.0</td>\n",
       "      <td>4</td>\n",
       "      <td>A</td>\n",
       "    </tr>\n",
       "  </tbody>\n",
       "</table>\n",
       "<p>5 rows × 26 columns</p>\n",
       "</div>"
      ],
      "text/plain": [
       "  TEAM        DATE      MATCHUP  W/L  MIN  PTS  FGM  FGA   FG%  3PM  \\\n",
       "0  ATL  01/10/2018    ATL @ DEN    1  239  110   40   80  50.0   12   \n",
       "1  ATL  04/10/2018  ATL vs. PHI    0  240  113   41   98  41.8   13   \n",
       "2  ATL  04/06/2018    ATL @ WAS    1  239  103   38   79  48.1   11   \n",
       "3  ATL  04/04/2018  ATL vs. MIA    0  239   86   33   90  36.7    9   \n",
       "4  ATL  04/03/2018    ATL @ MIA    0  240   98   37   88  42.0   13   \n",
       "\n",
       "     ...      DREB  REB  AST  STL  BLK  TOV  PF   +/-  GAMEID  HOME/AWAY  \n",
       "0    ...        38   44   25    6    4   16  23  13.0       0          A  \n",
       "1    ...        31   39   27   10    3   10  24  -8.0       1          H  \n",
       "2    ...        43   50   24    5    5   18  22   6.0       2          A  \n",
       "3    ...        38   48   20    5    6   15  16 -29.0       3          H  \n",
       "4    ...        37   49   24   10    1   15  15  -3.0       4          A  \n",
       "\n",
       "[5 rows x 26 columns]"
      ]
     },
     "execution_count": 5,
     "metadata": {},
     "output_type": "execute_result"
    }
   ],
   "source": [
    "df.head()"
   ]
  },
  {
   "cell_type": "markdown",
   "metadata": {},
   "source": [
    "**Partitioning the Data Set**"
   ]
  },
  {
   "cell_type": "markdown",
   "metadata": {},
   "source": [
    "We will split the dataset into a traning set and a test set. Creation of the model will be done on the training set, then tested using the test set. We will use a 80/20 split."
   ]
  },
  {
   "cell_type": "code",
   "execution_count": 6,
   "metadata": {},
   "outputs": [
    {
     "name": "stdout",
     "output_type": "stream",
     "text": [
      "(1968, 26)\n",
      "(492, 26)\n"
     ]
    }
   ],
   "source": [
    "# create training and testing vars\n",
    "train_df, test_df = train_test_split(df, test_size=0.2)\n",
    "print (train_df.shape)\n",
    "print (test_df.shape)"
   ]
  },
  {
   "cell_type": "markdown",
   "metadata": {},
   "source": [
    "**Data Exploration**"
   ]
  },
  {
   "cell_type": "markdown",
   "metadata": {},
   "source": [
    "We can see some of the basic statictics of the dataset with the describe function such as the mean, min, and max. It gives us a brief overview of what the dataset looks like.\n"
   ]
  },
  {
   "cell_type": "code",
   "execution_count": 7,
   "metadata": {},
   "outputs": [
    {
     "data": {
      "text/html": [
       "<div>\n",
       "<style scoped>\n",
       "    .dataframe tbody tr th:only-of-type {\n",
       "        vertical-align: middle;\n",
       "    }\n",
       "\n",
       "    .dataframe tbody tr th {\n",
       "        vertical-align: top;\n",
       "    }\n",
       "\n",
       "    .dataframe thead th {\n",
       "        text-align: right;\n",
       "    }\n",
       "</style>\n",
       "<table border=\"1\" class=\"dataframe\">\n",
       "  <thead>\n",
       "    <tr style=\"text-align: right;\">\n",
       "      <th></th>\n",
       "      <th>W/L</th>\n",
       "      <th>MIN</th>\n",
       "      <th>PTS</th>\n",
       "      <th>FGM</th>\n",
       "      <th>FGA</th>\n",
       "      <th>FG%</th>\n",
       "      <th>3PM</th>\n",
       "      <th>3PA</th>\n",
       "      <th>3P%</th>\n",
       "      <th>FTM</th>\n",
       "      <th>...</th>\n",
       "      <th>OREB</th>\n",
       "      <th>DREB</th>\n",
       "      <th>REB</th>\n",
       "      <th>AST</th>\n",
       "      <th>STL</th>\n",
       "      <th>BLK</th>\n",
       "      <th>TOV</th>\n",
       "      <th>PF</th>\n",
       "      <th>+/-</th>\n",
       "      <th>GAMEID</th>\n",
       "    </tr>\n",
       "  </thead>\n",
       "  <tbody>\n",
       "    <tr>\n",
       "      <th>count</th>\n",
       "      <td>1968.000000</td>\n",
       "      <td>1968.000000</td>\n",
       "      <td>1968.000000</td>\n",
       "      <td>1968.000000</td>\n",
       "      <td>1968.000000</td>\n",
       "      <td>1968.000000</td>\n",
       "      <td>1968.000000</td>\n",
       "      <td>1968.000000</td>\n",
       "      <td>1968.000000</td>\n",
       "      <td>1968.000000</td>\n",
       "      <td>...</td>\n",
       "      <td>1968.000000</td>\n",
       "      <td>1968.000000</td>\n",
       "      <td>1968.000000</td>\n",
       "      <td>1968.000000</td>\n",
       "      <td>1968.000000</td>\n",
       "      <td>1968.000000</td>\n",
       "      <td>1968.000000</td>\n",
       "      <td>1968.000000</td>\n",
       "      <td>1968.000000</td>\n",
       "      <td>1968.000000</td>\n",
       "    </tr>\n",
       "    <tr>\n",
       "      <th>mean</th>\n",
       "      <td>0.495935</td>\n",
       "      <td>241.507114</td>\n",
       "      <td>106.359248</td>\n",
       "      <td>39.632622</td>\n",
       "      <td>86.160061</td>\n",
       "      <td>46.088008</td>\n",
       "      <td>10.461890</td>\n",
       "      <td>29.016260</td>\n",
       "      <td>35.968750</td>\n",
       "      <td>16.632114</td>\n",
       "      <td>...</td>\n",
       "      <td>9.751016</td>\n",
       "      <td>33.725102</td>\n",
       "      <td>43.476118</td>\n",
       "      <td>23.220020</td>\n",
       "      <td>7.670224</td>\n",
       "      <td>4.819106</td>\n",
       "      <td>13.581809</td>\n",
       "      <td>19.891768</td>\n",
       "      <td>-0.120224</td>\n",
       "      <td>1226.923780</td>\n",
       "    </tr>\n",
       "    <tr>\n",
       "      <th>std</th>\n",
       "      <td>0.500111</td>\n",
       "      <td>6.719294</td>\n",
       "      <td>12.062138</td>\n",
       "      <td>5.090707</td>\n",
       "      <td>6.844655</td>\n",
       "      <td>5.462929</td>\n",
       "      <td>3.549429</td>\n",
       "      <td>6.649687</td>\n",
       "      <td>9.025187</td>\n",
       "      <td>5.772049</td>\n",
       "      <td>...</td>\n",
       "      <td>3.594183</td>\n",
       "      <td>5.344858</td>\n",
       "      <td>6.395970</td>\n",
       "      <td>5.180314</td>\n",
       "      <td>2.922049</td>\n",
       "      <td>2.500798</td>\n",
       "      <td>3.671627</td>\n",
       "      <td>4.183874</td>\n",
       "      <td>13.879068</td>\n",
       "      <td>706.394133</td>\n",
       "    </tr>\n",
       "    <tr>\n",
       "      <th>min</th>\n",
       "      <td>0.000000</td>\n",
       "      <td>237.000000</td>\n",
       "      <td>69.000000</td>\n",
       "      <td>22.000000</td>\n",
       "      <td>66.000000</td>\n",
       "      <td>28.200000</td>\n",
       "      <td>1.000000</td>\n",
       "      <td>11.000000</td>\n",
       "      <td>5.600000</td>\n",
       "      <td>1.000000</td>\n",
       "      <td>...</td>\n",
       "      <td>1.000000</td>\n",
       "      <td>18.000000</td>\n",
       "      <td>22.000000</td>\n",
       "      <td>9.000000</td>\n",
       "      <td>0.000000</td>\n",
       "      <td>0.000000</td>\n",
       "      <td>3.000000</td>\n",
       "      <td>8.000000</td>\n",
       "      <td>-61.000000</td>\n",
       "      <td>2.000000</td>\n",
       "    </tr>\n",
       "    <tr>\n",
       "      <th>25%</th>\n",
       "      <td>0.000000</td>\n",
       "      <td>240.000000</td>\n",
       "      <td>98.000000</td>\n",
       "      <td>36.000000</td>\n",
       "      <td>81.000000</td>\n",
       "      <td>42.400000</td>\n",
       "      <td>8.000000</td>\n",
       "      <td>24.000000</td>\n",
       "      <td>29.700000</td>\n",
       "      <td>13.000000</td>\n",
       "      <td>...</td>\n",
       "      <td>7.000000</td>\n",
       "      <td>30.000000</td>\n",
       "      <td>39.000000</td>\n",
       "      <td>20.000000</td>\n",
       "      <td>6.000000</td>\n",
       "      <td>3.000000</td>\n",
       "      <td>11.000000</td>\n",
       "      <td>17.000000</td>\n",
       "      <td>-9.000000</td>\n",
       "      <td>619.750000</td>\n",
       "    </tr>\n",
       "    <tr>\n",
       "      <th>50%</th>\n",
       "      <td>0.000000</td>\n",
       "      <td>240.000000</td>\n",
       "      <td>106.000000</td>\n",
       "      <td>39.000000</td>\n",
       "      <td>86.000000</td>\n",
       "      <td>46.100000</td>\n",
       "      <td>10.000000</td>\n",
       "      <td>29.000000</td>\n",
       "      <td>35.700000</td>\n",
       "      <td>16.000000</td>\n",
       "      <td>...</td>\n",
       "      <td>9.000000</td>\n",
       "      <td>34.000000</td>\n",
       "      <td>43.000000</td>\n",
       "      <td>23.000000</td>\n",
       "      <td>7.000000</td>\n",
       "      <td>5.000000</td>\n",
       "      <td>14.000000</td>\n",
       "      <td>20.000000</td>\n",
       "      <td>-1.000000</td>\n",
       "      <td>1220.500000</td>\n",
       "    </tr>\n",
       "    <tr>\n",
       "      <th>75%</th>\n",
       "      <td>1.000000</td>\n",
       "      <td>241.000000</td>\n",
       "      <td>115.000000</td>\n",
       "      <td>43.000000</td>\n",
       "      <td>91.000000</td>\n",
       "      <td>49.500000</td>\n",
       "      <td>13.000000</td>\n",
       "      <td>33.000000</td>\n",
       "      <td>41.950000</td>\n",
       "      <td>20.000000</td>\n",
       "      <td>...</td>\n",
       "      <td>12.000000</td>\n",
       "      <td>37.000000</td>\n",
       "      <td>48.000000</td>\n",
       "      <td>27.000000</td>\n",
       "      <td>9.000000</td>\n",
       "      <td>6.000000</td>\n",
       "      <td>16.000000</td>\n",
       "      <td>23.000000</td>\n",
       "      <td>9.000000</td>\n",
       "      <td>1836.250000</td>\n",
       "    </tr>\n",
       "    <tr>\n",
       "      <th>max</th>\n",
       "      <td>1.000000</td>\n",
       "      <td>317.000000</td>\n",
       "      <td>149.000000</td>\n",
       "      <td>56.000000</td>\n",
       "      <td>114.000000</td>\n",
       "      <td>66.700000</td>\n",
       "      <td>24.000000</td>\n",
       "      <td>59.000000</td>\n",
       "      <td>71.400000</td>\n",
       "      <td>41.000000</td>\n",
       "      <td>...</td>\n",
       "      <td>23.000000</td>\n",
       "      <td>56.000000</td>\n",
       "      <td>66.000000</td>\n",
       "      <td>46.000000</td>\n",
       "      <td>17.000000</td>\n",
       "      <td>16.000000</td>\n",
       "      <td>29.000000</td>\n",
       "      <td>42.000000</td>\n",
       "      <td>61.000000</td>\n",
       "      <td>2459.000000</td>\n",
       "    </tr>\n",
       "  </tbody>\n",
       "</table>\n",
       "<p>8 rows × 22 columns</p>\n",
       "</div>"
      ],
      "text/plain": [
       "               W/L          MIN          PTS          FGM          FGA  \\\n",
       "count  1968.000000  1968.000000  1968.000000  1968.000000  1968.000000   \n",
       "mean      0.495935   241.507114   106.359248    39.632622    86.160061   \n",
       "std       0.500111     6.719294    12.062138     5.090707     6.844655   \n",
       "min       0.000000   237.000000    69.000000    22.000000    66.000000   \n",
       "25%       0.000000   240.000000    98.000000    36.000000    81.000000   \n",
       "50%       0.000000   240.000000   106.000000    39.000000    86.000000   \n",
       "75%       1.000000   241.000000   115.000000    43.000000    91.000000   \n",
       "max       1.000000   317.000000   149.000000    56.000000   114.000000   \n",
       "\n",
       "               FG%          3PM          3PA          3P%          FTM  \\\n",
       "count  1968.000000  1968.000000  1968.000000  1968.000000  1968.000000   \n",
       "mean     46.088008    10.461890    29.016260    35.968750    16.632114   \n",
       "std       5.462929     3.549429     6.649687     9.025187     5.772049   \n",
       "min      28.200000     1.000000    11.000000     5.600000     1.000000   \n",
       "25%      42.400000     8.000000    24.000000    29.700000    13.000000   \n",
       "50%      46.100000    10.000000    29.000000    35.700000    16.000000   \n",
       "75%      49.500000    13.000000    33.000000    41.950000    20.000000   \n",
       "max      66.700000    24.000000    59.000000    71.400000    41.000000   \n",
       "\n",
       "          ...              OREB         DREB          REB          AST  \\\n",
       "count     ...       1968.000000  1968.000000  1968.000000  1968.000000   \n",
       "mean      ...          9.751016    33.725102    43.476118    23.220020   \n",
       "std       ...          3.594183     5.344858     6.395970     5.180314   \n",
       "min       ...          1.000000    18.000000    22.000000     9.000000   \n",
       "25%       ...          7.000000    30.000000    39.000000    20.000000   \n",
       "50%       ...          9.000000    34.000000    43.000000    23.000000   \n",
       "75%       ...         12.000000    37.000000    48.000000    27.000000   \n",
       "max       ...         23.000000    56.000000    66.000000    46.000000   \n",
       "\n",
       "               STL          BLK          TOV           PF          +/-  \\\n",
       "count  1968.000000  1968.000000  1968.000000  1968.000000  1968.000000   \n",
       "mean      7.670224     4.819106    13.581809    19.891768    -0.120224   \n",
       "std       2.922049     2.500798     3.671627     4.183874    13.879068   \n",
       "min       0.000000     0.000000     3.000000     8.000000   -61.000000   \n",
       "25%       6.000000     3.000000    11.000000    17.000000    -9.000000   \n",
       "50%       7.000000     5.000000    14.000000    20.000000    -1.000000   \n",
       "75%       9.000000     6.000000    16.000000    23.000000     9.000000   \n",
       "max      17.000000    16.000000    29.000000    42.000000    61.000000   \n",
       "\n",
       "            GAMEID  \n",
       "count  1968.000000  \n",
       "mean   1226.923780  \n",
       "std     706.394133  \n",
       "min       2.000000  \n",
       "25%     619.750000  \n",
       "50%    1220.500000  \n",
       "75%    1836.250000  \n",
       "max    2459.000000  \n",
       "\n",
       "[8 rows x 22 columns]"
      ]
     },
     "execution_count": 7,
     "metadata": {},
     "output_type": "execute_result"
    }
   ],
   "source": [
    "train_df.describe()"
   ]
  },
  {
   "cell_type": "markdown",
   "metadata": {},
   "source": [
    "This function tells us the correlation between each of the predictors and our target variable. It is useful in telling us which predictors are worth keeping or dropping. In this table, plus/minus has the highest positive correlation with win/loss. Turnovers have a negative correlation with win/loss. Minutes played has the lowest correlation in magnitude. "
   ]
  },
  {
   "cell_type": "code",
   "execution_count": 8,
   "metadata": {},
   "outputs": [
    {
     "data": {
      "text/plain": [
       "W/L       1.000000\n",
       "+/-       0.803126\n",
       "PTS       0.474591\n",
       "FG%       0.440717\n",
       "FGM       0.391700\n",
       "DREB      0.353245\n",
       "3P%       0.311560\n",
       "AST       0.309315\n",
       "REB       0.296148\n",
       "3PM       0.259820\n",
       "BLK       0.179894\n",
       "STL       0.142239\n",
       "FTM       0.141079\n",
       "FTA       0.115671\n",
       "FT%       0.077778\n",
       "3PA       0.054137\n",
       "MIN       0.008329\n",
       "OREB      0.001699\n",
       "GAMEID   -0.016019\n",
       "FGA      -0.021122\n",
       "PF       -0.080026\n",
       "TOV      -0.113196\n",
       "Name: W/L, dtype: float64"
      ]
     },
     "execution_count": 8,
     "metadata": {},
     "output_type": "execute_result"
    }
   ],
   "source": [
    "train_df.corr()['W/L'].sort_values(ascending=False)"
   ]
  },
  {
   "cell_type": "markdown",
   "metadata": {},
   "source": [
    "**Feature Engineering**\n",
    "\n",
    "Next, we will consider which features to keep or drop based on data visualizations or assumptions.\n",
    "\n",
    "**Assumptions**\n",
    "\n",
    "We will drop features such as attempts and makes because they will have no affect on the model. They are already captured in the corresponding percentage feature.\n",
    "\n",
    "We will also assume that we don't have plus/minus as a feature because that is only determined after a game."
   ]
  },
  {
   "cell_type": "markdown",
   "metadata": {},
   "source": [
    "**Points Feature**\n",
    "\n",
    "Prediction: Teams that score more points have a higher chance of winning."
   ]
  },
  {
   "cell_type": "code",
   "execution_count": 9,
   "metadata": {},
   "outputs": [
    {
     "data": {
      "text/plain": [
       "<seaborn.axisgrid.FacetGrid at 0x7f7b63ebc6a0>"
      ]
     },
     "execution_count": 9,
     "metadata": {},
     "output_type": "execute_result"
    },
    {
     "data": {
      "image/png": "[encoded data removed]",
      "text/plain": [
       "<Figure size 432x216 with 2 Axes>"
      ]
     },
     "metadata": {},
     "output_type": "display_data"
    }
   ],
   "source": [
    "g = sns.FacetGrid(train_df, col='W/L')\n",
    "g.map(plt.hist, 'PTS', bins=20)"
   ]
  },
  {
   "cell_type": "markdown",
   "metadata": {},
   "source": [
    "As predicted, teams that score more points are more likely to win. Therefore, it is essential to our model."
   ]
  },
  {
   "cell_type": "markdown",
   "metadata": {},
   "source": [
    "**Rebounds Feature**"
   ]
  },
  {
   "cell_type": "code",
   "execution_count": 10,
   "metadata": {},
   "outputs": [
    {
     "data": {
      "text/plain": [
       "<seaborn.axisgrid.FacetGrid at 0x7f7b61de8a58>"
      ]
     },
     "execution_count": 10,
     "metadata": {},
     "output_type": "execute_result"
    },
    {
     "data": {
      "image/png": "[encoded data removed]",
      "text/plain": [
       "<Figure size 432x216 with 2 Axes>"
      ]
     },
     "metadata": {},
     "output_type": "display_data"
    }
   ],
   "source": [
    "g = sns.FacetGrid(train_df, col='W/L')\n",
    "g.map(plt.hist, 'OREB', bins=20)"
   ]
  },
  {
   "cell_type": "code",
   "execution_count": 11,
   "metadata": {},
   "outputs": [
    {
     "data": {
      "text/plain": [
       "<seaborn.axisgrid.FacetGrid at 0x7f7b61d08e80>"
      ]
     },
     "execution_count": 11,
     "metadata": {},
     "output_type": "execute_result"
    },
    {
     "data": {
      "image/png": "[encoded data removed]",
      "text/plain": [
       "<Figure size 432x216 with 2 Axes>"
      ]
     },
     "metadata": {},
     "output_type": "display_data"
    }
   ],
   "source": [
    "g = sns.FacetGrid(train_df, col='W/L')\n",
    "g.map(plt.hist, 'DREB', bins=20)"
   ]
  },
  {
   "cell_type": "code",
   "execution_count": 12,
   "metadata": {},
   "outputs": [
    {
     "data": {
      "text/plain": [
       "<matplotlib.axes._subplots.AxesSubplot at 0x7f7b61cbaf60>"
      ]
     },
     "execution_count": 12,
     "metadata": {},
     "output_type": "execute_result"
    },
    {
     "data": {
      "image/png": "[encoded data removed]",
      "text/plain": [
       "<Figure size 432x288 with 1 Axes>"
      ]
     },
     "metadata": {},
     "output_type": "display_data"
    }
   ],
   "source": [
    "train_df.plot.scatter('OREB', 'DREB', s=None, c=None)"
   ]
  },
  {
   "cell_type": "markdown",
   "metadata": {},
   "source": [
    "It seems like offensive rebounds and defensive rebounds have no correlation. We will consider dropping offensive rebounds because the distribution between when it is a win versus a loss is fairly similar."
   ]
  },
  {
   "cell_type": "markdown",
   "metadata": {},
   "source": [
    "**Home/Away Feature**\n",
    "\n",
    "Prediction: Teams that are playing in their home court have an advantage and are more likely to win. We will see if that's true. "
   ]
  },
  {
   "cell_type": "code",
   "execution_count": 13,
   "metadata": {},
   "outputs": [
    {
     "name": "stdout",
     "output_type": "stream",
     "text": [
      "Frequency Table for Home/Away Games:\n",
      "A    970\n",
      "H    998\n",
      "Name: HOME/AWAY, dtype: int64\n",
      "\n",
      "Probility of winning by home/away games:\n",
      "                W/L\n",
      "HOME/AWAY          \n",
      "A          0.415464\n",
      "H          0.574148\n"
     ]
    }
   ],
   "source": [
    "temp1 = train_df['HOME/AWAY'].value_counts().sort_index()\n",
    "temp2 = train_df.pivot_table(values='W/L',index=['HOME/AWAY'],aggfunc=lambda x: x.mean())\n",
    "print (\"Frequency Table for Home/Away Games:\")\n",
    "print (temp1)\n",
    "\n",
    "print (\"\\nProbility of winning by home/away games:\") \n",
    "print (temp2)"
   ]
  },
  {
   "cell_type": "code",
   "execution_count": 14,
   "metadata": {},
   "outputs": [
    {
     "data": {
      "text/plain": [
       "Text(0.5, 1.0, 'Probability of winning by home/away games')"
      ]
     },
     "execution_count": 14,
     "metadata": {},
     "output_type": "execute_result"
    },
    {
     "data": {
      "image/png": "[encoded data removed]",
      "text/plain": [
       "<Figure size 720x360 with 2 Axes>"
      ]
     },
     "metadata": {},
     "output_type": "display_data"
    }
   ],
   "source": [
    "fig, (ax1, ax2) = plt.subplots(nrows = 1, ncols=2, figsize=(10,5))\n",
    "ax1.set_xlabel('Home/Away Game')\n",
    "ax1.set_ylabel('Count of Wins/Losses')\n",
    "ax1.set_title(\"Wins by Home/Away Games\")\n",
    "temp1.plot(kind='bar', ax=ax1)\n",
    "\n",
    "temp2.plot(kind='bar', ax=ax2)\n",
    "ax2.set_xlabel('Home/Away Game')\n",
    "ax2.set_ylabel('Probability of winning')\n",
    "ax2.set_title(\"Probability of winning by home/away games\")"
   ]
  },
  {
   "cell_type": "code",
   "execution_count": 15,
   "metadata": {},
   "outputs": [
    {
     "data": {
      "text/plain": [
       "<matplotlib.axes._subplots.AxesSubplot at 0x7f7b61a096d8>"
      ]
     },
     "execution_count": 15,
     "metadata": {},
     "output_type": "execute_result"
    },
    {
     "data": {
      "image/png": "[encoded data removed]",
      "text/plain": [
       "<Figure size 432x288 with 1 Axes>"
      ]
     },
     "metadata": {},
     "output_type": "display_data"
    }
   ],
   "source": [
    "temp3 = pd.crosstab(train_df['HOME/AWAY'], train_df['W/L'])\n",
    "temp3.plot(kind='bar', stacked=True, color=['red','blue'], grid=False)"
   ]
  },
  {
   "cell_type": "markdown",
   "metadata": {},
   "source": [
    "As predicted, teams playing at home have a higher chance at winning. The home/away feature is essential in our predictions."
   ]
  },
  {
   "cell_type": "markdown",
   "metadata": {
    "collapsed": true
   },
   "source": [
    "**Predictive Modelling**"
   ]
  },
  {
   "cell_type": "code",
   "execution_count": 16,
   "metadata": {},
   "outputs": [
    {
     "data": {
      "text/plain": [
       "TEAM           int64\n",
       "DATE           int64\n",
       "MATCHUP        int64\n",
       "W/L            int64\n",
       "MIN            int64\n",
       "PTS            int64\n",
       "FGM            int64\n",
       "FGA            int64\n",
       "FG%          float64\n",
       "3PM            int64\n",
       "3PA            int64\n",
       "3P%          float64\n",
       "FTM            int64\n",
       "FTA            int64\n",
       "FT%          float64\n",
       "OREB           int64\n",
       "DREB           int64\n",
       "REB            int64\n",
       "AST            int64\n",
       "STL            int64\n",
       "BLK            int64\n",
       "TOV            int64\n",
       "PF             int64\n",
       "+/-          float64\n",
       "GAMEID         int64\n",
       "HOME/AWAY      int64\n",
       "dtype: object"
      ]
     },
     "execution_count": 16,
     "metadata": {},
     "output_type": "execute_result"
    }
   ],
   "source": [
    "train_df = train_df.copy()\n",
    "\n",
    "from sklearn.preprocessing import LabelEncoder\n",
    "var_mod = ['TEAM','DATE','MATCHUP','HOME/AWAY']\n",
    "le = LabelEncoder()\n",
    "for i in var_mod:\n",
    "    train_df.loc[:,i] = le.fit_transform(train_df.loc[:,i].astype('str'))\n",
    "train_df.dtypes"
   ]
  },
  {
   "cell_type": "code",
   "execution_count": 17,
   "metadata": {},
   "outputs": [
    {
     "data": {
      "text/html": [
       "<div>\n",
       "<style scoped>\n",
       "    .dataframe tbody tr th:only-of-type {\n",
       "        vertical-align: middle;\n",
       "    }\n",
       "\n",
       "    .dataframe tbody tr th {\n",
       "        vertical-align: top;\n",
       "    }\n",
       "\n",
       "    .dataframe thead th {\n",
       "        text-align: right;\n",
       "    }\n",
       "</style>\n",
       "<table border=\"1\" class=\"dataframe\">\n",
       "  <thead>\n",
       "    <tr style=\"text-align: right;\">\n",
       "      <th></th>\n",
       "      <th>TEAM</th>\n",
       "      <th>DATE</th>\n",
       "      <th>MATCHUP</th>\n",
       "      <th>W/L</th>\n",
       "      <th>MIN</th>\n",
       "      <th>PTS</th>\n",
       "      <th>FGM</th>\n",
       "      <th>FGA</th>\n",
       "      <th>FG%</th>\n",
       "      <th>3PM</th>\n",
       "      <th>...</th>\n",
       "      <th>DREB</th>\n",
       "      <th>REB</th>\n",
       "      <th>AST</th>\n",
       "      <th>STL</th>\n",
       "      <th>BLK</th>\n",
       "      <th>TOV</th>\n",
       "      <th>PF</th>\n",
       "      <th>+/-</th>\n",
       "      <th>GAMEID</th>\n",
       "      <th>HOME/AWAY</th>\n",
       "    </tr>\n",
       "  </thead>\n",
       "  <tbody>\n",
       "    <tr>\n",
       "      <th>1532</th>\n",
       "      <td>17</td>\n",
       "      <td>143</td>\n",
       "      <td>874</td>\n",
       "      <td>1</td>\n",
       "      <td>240</td>\n",
       "      <td>113</td>\n",
       "      <td>45</td>\n",
       "      <td>82</td>\n",
       "      <td>54.9</td>\n",
       "      <td>7</td>\n",
       "      <td>...</td>\n",
       "      <td>38</td>\n",
       "      <td>46</td>\n",
       "      <td>29</td>\n",
       "      <td>4</td>\n",
       "      <td>7</td>\n",
       "      <td>15</td>\n",
       "      <td>17</td>\n",
       "      <td>6.0</td>\n",
       "      <td>1532</td>\n",
       "      <td>0</td>\n",
       "    </tr>\n",
       "    <tr>\n",
       "      <th>2071</th>\n",
       "      <td>24</td>\n",
       "      <td>51</td>\n",
       "      <td>1261</td>\n",
       "      <td>1</td>\n",
       "      <td>241</td>\n",
       "      <td>116</td>\n",
       "      <td>44</td>\n",
       "      <td>84</td>\n",
       "      <td>52.4</td>\n",
       "      <td>15</td>\n",
       "      <td>...</td>\n",
       "      <td>37</td>\n",
       "      <td>47</td>\n",
       "      <td>27</td>\n",
       "      <td>10</td>\n",
       "      <td>2</td>\n",
       "      <td>17</td>\n",
       "      <td>15</td>\n",
       "      <td>17.0</td>\n",
       "      <td>2071</td>\n",
       "      <td>1</td>\n",
       "    </tr>\n",
       "    <tr>\n",
       "      <th>386</th>\n",
       "      <td>3</td>\n",
       "      <td>145</td>\n",
       "      <td>177</td>\n",
       "      <td>0</td>\n",
       "      <td>266</td>\n",
       "      <td>111</td>\n",
       "      <td>40</td>\n",
       "      <td>100</td>\n",
       "      <td>40.0</td>\n",
       "      <td>10</td>\n",
       "      <td>...</td>\n",
       "      <td>41</td>\n",
       "      <td>50</td>\n",
       "      <td>22</td>\n",
       "      <td>7</td>\n",
       "      <td>11</td>\n",
       "      <td>11</td>\n",
       "      <td>20</td>\n",
       "      <td>-8.0</td>\n",
       "      <td>386</td>\n",
       "      <td>1</td>\n",
       "    </tr>\n",
       "    <tr>\n",
       "      <th>1031</th>\n",
       "      <td>11</td>\n",
       "      <td>163</td>\n",
       "      <td>594</td>\n",
       "      <td>0</td>\n",
       "      <td>240</td>\n",
       "      <td>94</td>\n",
       "      <td>38</td>\n",
       "      <td>79</td>\n",
       "      <td>48.1</td>\n",
       "      <td>10</td>\n",
       "      <td>...</td>\n",
       "      <td>32</td>\n",
       "      <td>39</td>\n",
       "      <td>27</td>\n",
       "      <td>8</td>\n",
       "      <td>4</td>\n",
       "      <td>15</td>\n",
       "      <td>17</td>\n",
       "      <td>-4.0</td>\n",
       "      <td>1031</td>\n",
       "      <td>1</td>\n",
       "    </tr>\n",
       "    <tr>\n",
       "      <th>256</th>\n",
       "      <td>1</td>\n",
       "      <td>73</td>\n",
       "      <td>76</td>\n",
       "      <td>0</td>\n",
       "      <td>240</td>\n",
       "      <td>105</td>\n",
       "      <td>39</td>\n",
       "      <td>93</td>\n",
       "      <td>41.9</td>\n",
       "      <td>13</td>\n",
       "      <td>...</td>\n",
       "      <td>36</td>\n",
       "      <td>46</td>\n",
       "      <td>22</td>\n",
       "      <td>6</td>\n",
       "      <td>11</td>\n",
       "      <td>12</td>\n",
       "      <td>36</td>\n",
       "      <td>-6.0</td>\n",
       "      <td>256</td>\n",
       "      <td>1</td>\n",
       "    </tr>\n",
       "  </tbody>\n",
       "</table>\n",
       "<p>5 rows × 26 columns</p>\n",
       "</div>"
      ],
      "text/plain": [
       "      TEAM  DATE  MATCHUP  W/L  MIN  PTS  FGM  FGA   FG%  3PM    ...      \\\n",
       "1532    17   143      874    1  240  113   45   82  54.9    7    ...       \n",
       "2071    24    51     1261    1  241  116   44   84  52.4   15    ...       \n",
       "386      3   145      177    0  266  111   40  100  40.0   10    ...       \n",
       "1031    11   163      594    0  240   94   38   79  48.1   10    ...       \n",
       "256      1    73       76    0  240  105   39   93  41.9   13    ...       \n",
       "\n",
       "      DREB  REB  AST  STL  BLK  TOV  PF   +/-  GAMEID  HOME/AWAY  \n",
       "1532    38   46   29    4    7   15  17   6.0    1532          0  \n",
       "2071    37   47   27   10    2   17  15  17.0    2071          1  \n",
       "386     41   50   22    7   11   11  20  -8.0     386          1  \n",
       "1031    32   39   27    8    4   15  17  -4.0    1031          1  \n",
       "256     36   46   22    6   11   12  36  -6.0     256          1  \n",
       "\n",
       "[5 rows x 26 columns]"
      ]
     },
     "execution_count": 17,
     "metadata": {},
     "output_type": "execute_result"
    }
   ],
   "source": [
    "train_df.head()"
   ]
  },
  {
   "cell_type": "code",
   "execution_count": 18,
   "metadata": {},
   "outputs": [],
   "source": [
    "#Import models from scikit learn module:\n",
    "from sklearn.linear_model import LogisticRegression\n",
    "from sklearn.model_selection import KFold   #For K-fold cross validation\n",
    "from sklearn.ensemble import RandomForestClassifier\n",
    "from sklearn.tree import DecisionTreeClassifier, export_graphviz\n",
    "from sklearn import metrics\n",
    "\n",
    "#Generic function for making a classification model and accessing performance:\n",
    "def classification_model(model, data, predictors, outcome):\n",
    "    #Fit the model:\n",
    "    model.fit(data[predictors],data[outcome])\n",
    "  \n",
    "    #Make predictions on training set:\n",
    "    predictions = model.predict(data[predictors])\n",
    "    \n",
    "    #Print accuracy\n",
    "    accuracy = metrics.accuracy_score(predictions,data[outcome])\n",
    "    print (\"Accuracy : %s\" % \"{0:.3%}\".format(accuracy))\n",
    "\n",
    "    #Perform k-fold cross-validation with 5 folds\n",
    "    kf = KFold(n_splits=5, random_state=None, shuffle=False)\n",
    "    error = []\n",
    "    for train, test in kf.split(train_df):\n",
    "        # Filter training data\n",
    "        train_predictors = (data[predictors].iloc[train,:])\n",
    "    \n",
    "        # The target we're using to train the algorithm.\n",
    "        train_target = data[outcome].iloc[train]\n",
    "\n",
    "        # Training the algorithm using the predictors and target.\n",
    "        model.fit(train_predictors, train_target)\n",
    "\n",
    "        #Record error from each cross-validation run\n",
    "        error.append(model.score(data[predictors].iloc[test,:], data[outcome].iloc[test]))\n",
    " \n",
    "    print (\"Cross-Validation Score : %s\" % \"{0:.3%}\".format(np.mean(error)))\n",
    "\n",
    "    #Fit the model again so that it can be refered outside the function:\n",
    "    model.fit(data[predictors],data[outcome])"
   ]
  },
  {
   "cell_type": "code",
   "execution_count": 19,
   "metadata": {},
   "outputs": [
    {
     "name": "stdout",
     "output_type": "stream",
     "text": [
      "Accuracy : 79.980%\n",
      "Cross-Validation Score : 78.710%\n"
     ]
    }
   ],
   "source": [
    "outcome_var = 'W/L'\n",
    "model = LogisticRegression()\n",
    "predictor_var = [\"PTS\",\"FG%\",\"3P%\",\"FT%\",\"DREB\",\"AST\",\"STL\",\"BLK\",\"TOV\",\"PF\",\"HOME/AWAY\"]\n",
    "classification_model(model, train_df, predictor_var, outcome_var)"
   ]
  },
  {
   "cell_type": "code",
   "execution_count": 20,
   "metadata": {},
   "outputs": [
    {
     "data": {
      "text/plain": [
       "TEAM           int64\n",
       "DATE           int64\n",
       "MATCHUP        int64\n",
       "W/L            int64\n",
       "MIN            int64\n",
       "PTS            int64\n",
       "FGM            int64\n",
       "FGA            int64\n",
       "FG%          float64\n",
       "3PM            int64\n",
       "3PA            int64\n",
       "3P%          float64\n",
       "FTM            int64\n",
       "FTA            int64\n",
       "FT%          float64\n",
       "OREB           int64\n",
       "DREB           int64\n",
       "REB            int64\n",
       "AST            int64\n",
       "STL            int64\n",
       "BLK            int64\n",
       "TOV            int64\n",
       "PF             int64\n",
       "+/-          float64\n",
       "GAMEID         int64\n",
       "HOME/AWAY      int64\n",
       "dtype: object"
      ]
     },
     "execution_count": 20,
     "metadata": {},
     "output_type": "execute_result"
    }
   ],
   "source": [
    "for i in var_mod:\n",
    "    test_df.loc[:,i] = le.fit_transform(test_df.loc[:,i].astype('str'))\n",
    "test_df.dtypes"
   ]
  },
  {
   "cell_type": "code",
   "execution_count": 21,
   "metadata": {},
   "outputs": [],
   "source": [
    "predictions = model.predict(test_df[[\"PTS\",\"FG%\",\"3P%\",\"FT%\",\"DREB\",\"AST\",\"STL\",\"BLK\",\"TOV\",\"PF\",\"HOME/AWAY\"]])\n",
    "\n",
    "submission = pd.DataFrame({\"GAMEID\": test_df[\"GAMEID\"], \"W/L\": predictions})\n",
    "\n",
    "submission.to_csv(\"game_submission.csv\", index=False)"
   ]
  },
  {
   "cell_type": "markdown",
   "metadata": {},
   "source": [
    "**Predictions**"
   ]
  },
  {
   "cell_type": "code",
   "execution_count": 22,
   "metadata": {},
   "outputs": [
    {
     "name": "stdout",
     "output_type": "stream",
     "text": [
      "Accuracy : 81.301%\n"
     ]
    }
   ],
   "source": [
    "correct = 0\n",
    "for gameid in submission.loc[:,\"GAMEID\"]:\n",
    "    if (submission.loc[gameid,:][\"W/L\"] == test_df.loc[gameid,:][\"W/L\"]):\n",
    "        correct = correct + 1\n",
    "print (\"Accuracy : %s\" % \"{0:.3%}\".format(correct/submission.shape[0]))"
   ]
  }
 ],
 "metadata": {
  "kernelspec": {
   "display_name": "Python 3",
   "language": "python",
   "name": "python3"
  },
  "language_info": {
   "codemirror_mode": {
    "name": "ipython",
    "version": 3
   },
   "file_extension": ".py",
   "mimetype": "text/x-python",
   "name": "python",
   "nbconvert_exporter": "python",
   "pygments_lexer": "ipython3",
   "version": "3.6.7"
  }
 },
 "nbformat": 4,
 "nbformat_minor": 2
}
